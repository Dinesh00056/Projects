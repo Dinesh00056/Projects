{
 "cells": [
  {
   "cell_type": "code",
   "execution_count": 1,
   "id": "ad7160da-1c38-4599-9b90-a93398428150",
   "metadata": {},
   "outputs": [],
   "source": [
    "# App user segmentation is the task of grouping users based on\n",
    "# how they engage with the app. It helps find retained users, find\n",
    "# the user segment for a marketing campaign, and solve many\n",
    "# other business problems where you need to search for users\n",
    "# based on similar characteristics."
   ]
  },
  {
   "cell_type": "code",
   "execution_count": 2,
   "id": "12307f1c-c2cf-4b02-a257-0b55a6ed689c",
   "metadata": {},
   "outputs": [],
   "source": [
    "import pandas as pd\n",
    "import numpy as np"
   ]
  },
  {
   "cell_type": "code",
   "execution_count": 3,
   "id": "5fb5a5fc-62ef-49ba-b70c-52fae56dec76",
   "metadata": {},
   "outputs": [],
   "source": [
    "df=pd.read_csv(\" userbehaviour.csv\")"
   ]
  },
  {
   "cell_type": "code",
   "execution_count": 4,
   "id": "81809a46-4289-44e3-86e5-d7fdbdf95637",
   "metadata": {},
   "outputs": [
    {
     "data": {
      "text/html": [
       "<div>\n",
       "<style scoped>\n",
       "    .dataframe tbody tr th:only-of-type {\n",
       "        vertical-align: middle;\n",
       "    }\n",
       "\n",
       "    .dataframe tbody tr th {\n",
       "        vertical-align: top;\n",
       "    }\n",
       "\n",
       "    .dataframe thead th {\n",
       "        text-align: right;\n",
       "    }\n",
       "</style>\n",
       "<table border=\"1\" class=\"dataframe\">\n",
       "  <thead>\n",
       "    <tr style=\"text-align: right;\">\n",
       "      <th></th>\n",
       "      <th>userid</th>\n",
       "      <th>Average Screen Time</th>\n",
       "      <th>Average Spent on App (INR)</th>\n",
       "      <th>Left Review</th>\n",
       "      <th>Ratings</th>\n",
       "      <th>New Password Request</th>\n",
       "      <th>Last Visited Minutes</th>\n",
       "      <th>Status</th>\n",
       "    </tr>\n",
       "  </thead>\n",
       "  <tbody>\n",
       "    <tr>\n",
       "      <th>0</th>\n",
       "      <td>1001</td>\n",
       "      <td>17</td>\n",
       "      <td>634</td>\n",
       "      <td>1</td>\n",
       "      <td>9</td>\n",
       "      <td>7</td>\n",
       "      <td>2990</td>\n",
       "      <td>Installed</td>\n",
       "    </tr>\n",
       "  </tbody>\n",
       "</table>\n",
       "</div>"
      ],
      "text/plain": [
       "   userid  Average Screen Time  Average Spent on App (INR)  Left Review  \\\n",
       "0    1001                   17                         634            1   \n",
       "\n",
       "   Ratings  New Password Request  Last Visited Minutes     Status  \n",
       "0        9                     7                  2990  Installed  "
      ]
     },
     "execution_count": 4,
     "metadata": {},
     "output_type": "execute_result"
    }
   ],
   "source": [
    "df.head(1)"
   ]
  },
  {
   "cell_type": "code",
   "execution_count": 5,
   "id": "95408ac8-5210-4ac0-97a8-4f328b5d549c",
   "metadata": {},
   "outputs": [],
   "source": [
    "import plotly.graph_objects as go\n",
    "import plotly.express as px\n",
    "import plotly.io as pio\n",
    "import pandas as pd\n",
    "pio.templates.default = \"plotly_white\""
   ]
  },
  {
   "cell_type": "code",
   "execution_count": 6,
   "id": "76286668-a66e-4a8e-903a-a09b6783057b",
   "metadata": {},
   "outputs": [],
   "source": [
    "# Let's start by looking at the highest, lowest, and average\n",
    "# screen time of all the users:"
   ]
  },
  {
   "cell_type": "code",
   "execution_count": 7,
   "id": "658a6e49-def6-4cf0-861b-c35a22609523",
   "metadata": {},
   "outputs": [
    {
     "name": "stdout",
     "output_type": "stream",
     "text": [
      "Average Screen Time = 24.39039039039039\n",
      "Highest Screen Time = 50\n",
      "Lowest Screen Time = 0\n"
     ]
    }
   ],
   "source": [
    "print(f'Average Screen Time = {df[\"Average Screen Time\"].mean()}' )\n",
    "print(f'Highest Screen Time = {df[\"Average Screen Time\"].max()}' )\n",
    "print(f'Lowest Screen Time = {df[\"Average Screen Time\"].min()}')"
   ]
  },
  {
   "cell_type": "code",
   "execution_count": 8,
   "id": "b1fc8871-20de-408f-b22e-d2011750ee05",
   "metadata": {},
   "outputs": [],
   "source": [
    "# Now let's have a look at the highest, lowest, and the average\n",
    "# amount spent by all the users:"
   ]
  },
  {
   "cell_type": "code",
   "execution_count": 9,
   "id": "dc0af0f5-4e8f-4b4a-afd9-88f8b9c5694f",
   "metadata": {},
   "outputs": [
    {
     "name": "stdout",
     "output_type": "stream",
     "text": [
      "Average Spend of the Users = 424.4154154154154\n",
      "Highest Spend of the Users = 998\n",
      "Lowest Spend of the Users = 0\n"
     ]
    }
   ],
   "source": [
    "print(f'Average Spend of the Users = {df[\"Average Spent on App (INR)\"].mean() }' )\n",
    "print (f'Highest Spend of the Users = {df[\"Average Spent on App (INR)\"].max()}')\n",
    "print (f'Lowest Spend of the Users = {df[\"Average Spent on App (INR)\"].min()}' )"
   ]
  },
  {
   "cell_type": "code",
   "execution_count": null,
   "id": "d07c61d2-1294-44ae-841c-a42ddf564b7e",
   "metadata": {},
   "outputs": [],
   "source": [
    "#Now let's have a look at the relationship between the spending capacity and screen time of the active\n",
    "#users and the users who have uninstalled the app:\n",
    "\n"
   ]
  },
  {
   "cell_type": "code",
   "execution_count": 20,
   "id": "ca5cfd4e-d9b8-43a7-8cf5-d62992834e2c",
   "metadata": {},
   "outputs": [
    {
     "data": {
      "application/vnd.plotly.v1+json": {
       "config": {
        "plotlyServerURL": "https://plot.ly"
       },
       "data": [
        {
         "hovertemplate": "Status=Installed<br>Average Screen Time=%{x}<br>Average Spent on App (INR)=%{marker.size}<extra></extra>",
         "legendgroup": "Installed",
         "marker": {
          "color": "#636efa",
          "size": {
           "bdata": "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",
           "dtype": "i2"
          },
          "sizemode": "area",
          "sizeref": 2.495,
          "symbol": "circle"
         },
         "mode": "markers",
         "name": "Installed",
         "orientation": "v",
         "showlegend": true,
         "type": "scatter",
         "x": {
          "bdata": "ESUgLRwxCBwcLBgBKSALJiIVEg8iCxoiMCExCS8iHiMMDBYDACgpFQwRKzITLBklDyoqDy0ZIiUgMRQxICUIMSsnIwkyKC4pCxYSJyAsDC4GMAYSDxcYAAotMAEvFQkRGS0eCw8OEQUaDA4EKR8JExALExUmHhsdByEQDwodARMsBiEnCRkoKxAjKxgHETERDhgpLA4WHSwXDi4lIQwoHQ4fMgksLSooIxEFEy8UDQ0eLgcwHRIIJRwZDjIdHxgRCQ8gDikPGgwSDgsjMBggKxUHBSAyEw4pGg8lDh8oJxoYIQoYIRIUHzEnGBkVJCAXGQ8aIw4rEAkPBwwkEg4YCBweLh4eMREgFiokIiUXHw4aEwUhCwQfITEhFhkJES8SLCgXGRkYJxkGKi4kFQAdCxElIw8SMRgMDxobGCcGISsxLCMiICsgEC0ZGC4cHhoIISMMMSIUEgcOKQsPKRYVEiMiEBITAx4NAjINMhciJAcpIhQfIyklCAIIDBYUCigSHycsIjIJDSgsER0hByQRCh4dHSEvIy0TFwchMSkQHhgRBhIXCCkZFBYnFSojKhYZFAsyER0LJwkZLQgNDR8qJA8QHC4iCQ0dHRoTIRAxCBcpKC0qFycQCwsEEAYrFhMlDikcMR0TMB4BBC8TISUHCTEpHhQtISMUEiEYJCkYByIVKygSEw4dMSISBgcTHiEtCBUqIzIULxgaCB4uLAYcBiUbLiMVExkqJCsfJRMXEgUIISIBBygiIyUnDiknGC0WCSkTES8WCBAwKBUtLyEtIBMPLysdERMVGwwWHwgjMgYKMQgfGxwSCC4eIS0fMCQGFhAgBgYtEhALIRkgJR4ICiYeCh8OEAsrFgcfEg4lIhYYBisvCwwaCC0OHygTHCwcBDIkGicYKikiBCgnKBQxChUODxEOBhwqDB0TDRkkBgoULyIeKRkhCR8eFQsXGx4GHBcRGhMgBBkPCCIlKhwnAxcfDSILCBASJR4THg4uJCIjJQseAR0uGCwSCxMRFAUdHB0NMiAhLgYBLTICCS0kGSwgESQUFhcRBQcPHAsYLwYZHw0IHy8rFhMMFC8TJS4fIi4oKR0IGyoJICsTCyMXGwkhLB4wHycXCSUSIhclExkTHxUpIxYOBx8qJQIKFQwUGyQUJx4THBkWBgcEEx0GFhInEhsYLiEdERwPJAgXGDAoIy4wEBgjIxgKCC4iKQomKy8GCQ==",
          "dtype": "i1"
         },
         "xaxis": "x",
         "y": {
          "bdata": "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",
          "dtype": "i2"
         },
         "yaxis": "y"
        },
        {
         "hovertemplate": "<b>OLS trendline</b><br>Average Spent on App (INR) = 7.82515 * Average Screen Time + 251.62<br>R<sup>2</sup>=0.113975<br><br>Status=Installed<br>Average Screen Time=%{x}<br>Average Spent on App (INR)=%{y} <b>(trend)</b><extra></extra>",
         "legendgroup": "Installed",
         "marker": {
          "color": "#636efa",
          "symbol": "circle"
         },
         "mode": "lines",
         "name": "Installed",
         "showlegend": false,
         "type": "scatter",
         "x": {
          "bdata": "AAAAAQEBAQEBAQICAgIDAwMEBAQEBAQEBAUFBQUFBQUGBgYGBgYGBgYGBgYGBgYGBgYGBgYGBgcHBwcHBwcHBwcHBwcHBwcHCAgICAgICAgICAgICAgICAgICAgICAgICAkJCQkJCQkJCQkJCQkJCQkJCQkJCgoKCgoKCgoKCgoKCgsLCwsLCwsLCwsLCwsLCwsLCwsLCwsMDAwMDAwMDAwMDAwMDAwMDQ0NDQ0NDQ0NDQ0NDg4ODg4ODg4ODg4ODg4ODg4ODg4ODg4ODg8PDw8PDw8PDw8PDw8PDw8PDw8PEBAQEBAQEBAQEBAQEBAQEBARERERERERERERERERERERERERERERERISEhISEhISEhISEhISEhISEhISEhISEhISExMTExMTExMTExMTExMTExMTExMTExMTExMTExMTExMUFBQUFBQUFBQUFBQUFBQUFBQVFRUVFRUVFRUVFRUVFRUVFRUWFhYWFhYWFhYWFhYWFhYWFhYWFhYXFxcXFxcXFxcXFxcXFxcXFxcXGBgYGBgYGBgYGBgYGBgYGBgYGBgYGBgYGBgYGRkZGRkZGRkZGRkZGRkZGRkZGRkZGRkZGhoaGhoaGhoaGhoaGhobGxsbGxsbGxsbHBwcHBwcHBwcHBwcHBwcHBwcHB0dHR0dHR0dHR0dHR0dHR0dHR0dHR0dHh4eHh4eHh4eHh4eHh4eHh4eHh4eHh4eHh4fHx8fHx8fHx8fHx8fHx8fHx8fHx8fHx8fICAgICAgICAgICAgICAgICAgICEhISEhISEhISEhISEhISEhISEhISEhISEhISIiIiIiIiIiIiIiIiIiIiIiIiIiIiIiIiIiIyMjIyMjIyMjIyMjIyMjIyMjIyMjIyMjJCQkJCQkJCQkJCQkJCQkJCQlJSUlJSUlJSUlJSUlJSUlJSUlJSUlJSUmJiYmJycnJycnJycnJycnJycnJycnJygoKCgoKCgoKCgoKCgoKCgoKCkpKSkpKSkpKSkpKSkpKSkpKSkpKSkpKSoqKioqKioqKioqKioqKiorKysrKysrKysrKysrKysrKywsLCwsLCwsLCwsLCwsLCwtLS0tLS0tLS0tLS0tLS0tLS0tLi4uLi4uLi4uLi4uLi4uLi4uLi8vLy8vLy8vLy8vLy8vLy8wMDAwMDAwMDAwMDExMTExMTExMTExMTExMTExMTEyMjIyMjIyMjIyMjIyMg==",
          "dtype": "i1"
         },
         "xaxis": "x",
         "y": {
          "bdata": "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",
          "dtype": "f8"
         },
         "yaxis": "y"
        },
        {
         "hovertemplate": "Status=Uninstalled<br>Average Screen Time=%{x}<br>Average Spent on App (INR)=%{marker.size}<extra></extra>",
         "legendgroup": "Uninstalled",
         "marker": {
          "color": "#EF553B",
          "size": {
           "bdata": "NmFdIkMaMF4ISxcsKl9TLmQlM1xFXRAKEU1bIF8nH10qLxwZMmE6D0tCERVRGT4ZYzskGmBUMSpYSw0tJAEKXFcGBF0FAAxUYR4xHU4qA18fSSs=",
           "dtype": "i1"
          },
          "sizemode": "area",
          "sizeref": 2.495,
          "symbol": "circle"
         },
         "mode": "markers",
         "name": "Uninstalled",
         "orientation": "v",
         "showlegend": true,
         "type": "scatter",
         "x": {
          "bdata": "AAEEAwUFAAEBAwADAgEDAwMEBAECAAEDBAMEAAACAQUABQEEBAAEBQQABQACAgUFAgEFAAIBBQAAAQIDBAMBAAEABAICAwQBAwMABQIEAgACAQI=",
          "dtype": "i1"
         },
         "xaxis": "x",
         "y": {
          "bdata": "NmFdIkMaMF4ISxcsKl9TLmQlM1xFXRAKEU1bIF8nH10qLxwZMmE6D0tCERVRGT4ZYzskGmBUMSpYSw0tJAEKXFcGBF0FAAxUYR4xHU4qA18fSSs=",
          "dtype": "i1"
         },
         "yaxis": "y"
        },
        {
         "hovertemplate": "<b>OLS trendline</b><br>Average Spent on App (INR) = -3.51397 * Average Screen Time + 60.0258<br>R<sup>2</sup>=0.037117<br><br>Status=Uninstalled<br>Average Screen Time=%{x}<br>Average Spent on App (INR)=%{y} <b>(trend)</b><extra></extra>",
         "legendgroup": "Uninstalled",
         "marker": {
          "color": "#EF553B",
          "symbol": "circle"
         },
         "mode": "lines",
         "name": "Uninstalled",
         "showlegend": false,
         "type": "scatter",
         "x": {
          "bdata": "AAAAAAAAAAAAAAAAAAAAAAABAQEBAQEBAQEBAQEBAQECAgICAgICAgICAgICAgMDAwMDAwMDAwMDAwMEBAQEBAQEBAQEBAQEBQUFBQUFBQUFBQU=",
          "dtype": "i1"
         },
         "xaxis": "x",
         "y": {
          "bdata": "yEF99UwDTkDIQX31TANOQMhBffVMA05AyEF99UwDTkDIQX31TANOQMhBffVMA05AyEF99UwDTkDIQX31TANOQMhBffVMA05AyEF99UwDTkDIQX31TANOQMhBffVMA05AyEF99UwDTkDIQX31TANOQMhBffVMA05AyEF99UwDTkDIQX31TANOQIA2WTSDQUxAgDZZNINBTECANlk0g0FMQIA2WTSDQUxAgDZZNINBTECANlk0g0FMQIA2WTSDQUxAgDZZNINBTECANlk0g0FMQIA2WTSDQUxAgDZZNINBTECANlk0g0FMQIA2WTSDQUxAgDZZNINBTECANlk0g0FMQDgrNXO5f0pAOCs1c7l/SkA4KzVzuX9KQDgrNXO5f0pAOCs1c7l/SkA4KzVzuX9KQDgrNXO5f0pAOCs1c7l/SkA4KzVzuX9KQDgrNXO5f0pAOCs1c7l/SkA4KzVzuX9KQDgrNXO5f0pAOCs1c7l/SkDwHxGy771IQPAfEbLvvUhA8B8Rsu+9SEDwHxGy771IQPAfEbLvvUhA8B8Rsu+9SEDwHxGy771IQPAfEbLvvUhA8B8Rsu+9SEDwHxGy771IQPAfEbLvvUhA8B8Rsu+9SEDwHxGy771IQKgU7fAl/EZAqBTt8CX8RkCoFO3wJfxGQKgU7fAl/EZAqBTt8CX8RkCoFO3wJfxGQKgU7fAl/EZAqBTt8CX8RkCoFO3wJfxGQKgU7fAl/EZAqBTt8CX8RkCoFO3wJfxGQKgU7fAl/EZAYAnJL1w6RUBgCckvXDpFQGAJyS9cOkVAYAnJL1w6RUBgCckvXDpFQGAJyS9cOkVAYAnJL1w6RUBgCckvXDpFQGAJyS9cOkVAYAnJL1w6RUBgCckvXDpFQA==",
          "dtype": "f8"
         },
         "yaxis": "y"
        }
       ],
       "layout": {
        "legend": {
         "itemsizing": "constant",
         "title": {
          "text": "Status"
         },
         "tracegroupgap": 0
        },
        "template": {
         "data": {
          "bar": [
           {
            "error_x": {
             "color": "#2a3f5f"
            },
            "error_y": {
             "color": "#2a3f5f"
            },
            "marker": {
             "line": {
              "color": "white",
              "width": 0.5
             },
             "pattern": {
              "fillmode": "overlay",
              "size": 10,
              "solidity": 0.2
             }
            },
            "type": "bar"
           }
          ],
          "barpolar": [
           {
            "marker": {
             "line": {
              "color": "white",
              "width": 0.5
             },
             "pattern": {
              "fillmode": "overlay",
              "size": 10,
              "solidity": 0.2
             }
            },
            "type": "barpolar"
           }
          ],
          "carpet": [
           {
            "aaxis": {
             "endlinecolor": "#2a3f5f",
             "gridcolor": "#C8D4E3",
             "linecolor": "#C8D4E3",
             "minorgridcolor": "#C8D4E3",
             "startlinecolor": "#2a3f5f"
            },
            "baxis": {
             "endlinecolor": "#2a3f5f",
             "gridcolor": "#C8D4E3",
             "linecolor": "#C8D4E3",
             "minorgridcolor": "#C8D4E3",
             "startlinecolor": "#2a3f5f"
            },
            "type": "carpet"
           }
          ],
          "choropleth": [
           {
            "colorbar": {
             "outlinewidth": 0,
             "ticks": ""
            },
            "type": "choropleth"
           }
          ],
          "contour": [
           {
            "colorbar": {
             "outlinewidth": 0,
             "ticks": ""
            },
            "colorscale": [
             [
              0,
              "#0d0887"
             ],
             [
              0.1111111111111111,
              "#46039f"
             ],
             [
              0.2222222222222222,
              "#7201a8"
             ],
             [
              0.3333333333333333,
              "#9c179e"
             ],
             [
              0.4444444444444444,
              "#bd3786"
             ],
             [
              0.5555555555555556,
              "#d8576b"
             ],
             [
              0.6666666666666666,
              "#ed7953"
             ],
             [
              0.7777777777777778,
              "#fb9f3a"
             ],
             [
              0.8888888888888888,
              "#fdca26"
             ],
             [
              1,
              "#f0f921"
             ]
            ],
            "type": "contour"
           }
          ],
          "contourcarpet": [
           {
            "colorbar": {
             "outlinewidth": 0,
             "ticks": ""
            },
            "type": "contourcarpet"
           }
          ],
          "heatmap": [
           {
            "colorbar": {
             "outlinewidth": 0,
             "ticks": ""
            },
            "colorscale": [
             [
              0,
              "#0d0887"
             ],
             [
              0.1111111111111111,
              "#46039f"
             ],
             [
              0.2222222222222222,
              "#7201a8"
             ],
             [
              0.3333333333333333,
              "#9c179e"
             ],
             [
              0.4444444444444444,
              "#bd3786"
             ],
             [
              0.5555555555555556,
              "#d8576b"
             ],
             [
              0.6666666666666666,
              "#ed7953"
             ],
             [
              0.7777777777777778,
              "#fb9f3a"
             ],
             [
              0.8888888888888888,
              "#fdca26"
             ],
             [
              1,
              "#f0f921"
             ]
            ],
            "type": "heatmap"
           }
          ],
          "histogram": [
           {
            "marker": {
             "pattern": {
              "fillmode": "overlay",
              "size": 10,
              "solidity": 0.2
             }
            },
            "type": "histogram"
           }
          ],
          "histogram2d": [
           {
            "colorbar": {
             "outlinewidth": 0,
             "ticks": ""
            },
            "colorscale": [
             [
              0,
              "#0d0887"
             ],
             [
              0.1111111111111111,
              "#46039f"
             ],
             [
              0.2222222222222222,
              "#7201a8"
             ],
             [
              0.3333333333333333,
              "#9c179e"
             ],
             [
              0.4444444444444444,
              "#bd3786"
             ],
             [
              0.5555555555555556,
              "#d8576b"
             ],
             [
              0.6666666666666666,
              "#ed7953"
             ],
             [
              0.7777777777777778,
              "#fb9f3a"
             ],
             [
              0.8888888888888888,
              "#fdca26"
             ],
             [
              1,
              "#f0f921"
             ]
            ],
            "type": "histogram2d"
           }
          ],
          "histogram2dcontour": [
           {
            "colorbar": {
             "outlinewidth": 0,
             "ticks": ""
            },
            "colorscale": [
             [
              0,
              "#0d0887"
             ],
             [
              0.1111111111111111,
              "#46039f"
             ],
             [
              0.2222222222222222,
              "#7201a8"
             ],
             [
              0.3333333333333333,
              "#9c179e"
             ],
             [
              0.4444444444444444,
              "#bd3786"
             ],
             [
              0.5555555555555556,
              "#d8576b"
             ],
             [
              0.6666666666666666,
              "#ed7953"
             ],
             [
              0.7777777777777778,
              "#fb9f3a"
             ],
             [
              0.8888888888888888,
              "#fdca26"
             ],
             [
              1,
              "#f0f921"
             ]
            ],
            "type": "histogram2dcontour"
           }
          ],
          "mesh3d": [
           {
            "colorbar": {
             "outlinewidth": 0,
             "ticks": ""
            },
            "type": "mesh3d"
           }
          ],
          "parcoords": [
           {
            "line": {
             "colorbar": {
              "outlinewidth": 0,
              "ticks": ""
             }
            },
            "type": "parcoords"
           }
          ],
          "pie": [
           {
            "automargin": true,
            "type": "pie"
           }
          ],
          "scatter": [
           {
            "fillpattern": {
             "fillmode": "overlay",
             "size": 10,
             "solidity": 0.2
            },
            "type": "scatter"
           }
          ],
          "scatter3d": [
           {
            "line": {
             "colorbar": {
              "outlinewidth": 0,
              "ticks": ""
             }
            },
            "marker": {
             "colorbar": {
              "outlinewidth": 0,
              "ticks": ""
             }
            },
            "type": "scatter3d"
           }
          ],
          "scattercarpet": [
           {
            "marker": {
             "colorbar": {
              "outlinewidth": 0,
              "ticks": ""
             }
            },
            "type": "scattercarpet"
           }
          ],
          "scattergeo": [
           {
            "marker": {
             "colorbar": {
              "outlinewidth": 0,
              "ticks": ""
             }
            },
            "type": "scattergeo"
           }
          ],
          "scattergl": [
           {
            "marker": {
             "colorbar": {
              "outlinewidth": 0,
              "ticks": ""
             }
            },
            "type": "scattergl"
           }
          ],
          "scattermap": [
           {
            "marker": {
             "colorbar": {
              "outlinewidth": 0,
              "ticks": ""
             }
            },
            "type": "scattermap"
           }
          ],
          "scattermapbox": [
           {
            "marker": {
             "colorbar": {
              "outlinewidth": 0,
              "ticks": ""
             }
            },
            "type": "scattermapbox"
           }
          ],
          "scatterpolar": [
           {
            "marker": {
             "colorbar": {
              "outlinewidth": 0,
              "ticks": ""
             }
            },
            "type": "scatterpolar"
           }
          ],
          "scatterpolargl": [
           {
            "marker": {
             "colorbar": {
              "outlinewidth": 0,
              "ticks": ""
             }
            },
            "type": "scatterpolargl"
           }
          ],
          "scatterternary": [
           {
            "marker": {
             "colorbar": {
              "outlinewidth": 0,
              "ticks": ""
             }
            },
            "type": "scatterternary"
           }
          ],
          "surface": [
           {
            "colorbar": {
             "outlinewidth": 0,
             "ticks": ""
            },
            "colorscale": [
             [
              0,
              "#0d0887"
             ],
             [
              0.1111111111111111,
              "#46039f"
             ],
             [
              0.2222222222222222,
              "#7201a8"
             ],
             [
              0.3333333333333333,
              "#9c179e"
             ],
             [
              0.4444444444444444,
              "#bd3786"
             ],
             [
              0.5555555555555556,
              "#d8576b"
             ],
             [
              0.6666666666666666,
              "#ed7953"
             ],
             [
              0.7777777777777778,
              "#fb9f3a"
             ],
             [
              0.8888888888888888,
              "#fdca26"
             ],
             [
              1,
              "#f0f921"
             ]
            ],
            "type": "surface"
           }
          ],
          "table": [
           {
            "cells": {
             "fill": {
              "color": "#EBF0F8"
             },
             "line": {
              "color": "white"
             }
            },
            "header": {
             "fill": {
              "color": "#C8D4E3"
             },
             "line": {
              "color": "white"
             }
            },
            "type": "table"
           }
          ]
         },
         "layout": {
          "annotationdefaults": {
           "arrowcolor": "#2a3f5f",
           "arrowhead": 0,
           "arrowwidth": 1
          },
          "autotypenumbers": "strict",
          "coloraxis": {
           "colorbar": {
            "outlinewidth": 0,
            "ticks": ""
           }
          },
          "colorscale": {
           "diverging": [
            [
             0,
             "#8e0152"
            ],
            [
             0.1,
             "#c51b7d"
            ],
            [
             0.2,
             "#de77ae"
            ],
            [
             0.3,
             "#f1b6da"
            ],
            [
             0.4,
             "#fde0ef"
            ],
            [
             0.5,
             "#f7f7f7"
            ],
            [
             0.6,
             "#e6f5d0"
            ],
            [
             0.7,
             "#b8e186"
            ],
            [
             0.8,
             "#7fbc41"
            ],
            [
             0.9,
             "#4d9221"
            ],
            [
             1,
             "#276419"
            ]
           ],
           "sequential": [
            [
             0,
             "#0d0887"
            ],
            [
             0.1111111111111111,
             "#46039f"
            ],
            [
             0.2222222222222222,
             "#7201a8"
            ],
            [
             0.3333333333333333,
             "#9c179e"
            ],
            [
             0.4444444444444444,
             "#bd3786"
            ],
            [
             0.5555555555555556,
             "#d8576b"
            ],
            [
             0.6666666666666666,
             "#ed7953"
            ],
            [
             0.7777777777777778,
             "#fb9f3a"
            ],
            [
             0.8888888888888888,
             "#fdca26"
            ],
            [
             1,
             "#f0f921"
            ]
           ],
           "sequentialminus": [
            [
             0,
             "#0d0887"
            ],
            [
             0.1111111111111111,
             "#46039f"
            ],
            [
             0.2222222222222222,
             "#7201a8"
            ],
            [
             0.3333333333333333,
             "#9c179e"
            ],
            [
             0.4444444444444444,
             "#bd3786"
            ],
            [
             0.5555555555555556,
             "#d8576b"
            ],
            [
             0.6666666666666666,
             "#ed7953"
            ],
            [
             0.7777777777777778,
             "#fb9f3a"
            ],
            [
             0.8888888888888888,
             "#fdca26"
            ],
            [
             1,
             "#f0f921"
            ]
           ]
          },
          "colorway": [
           "#636efa",
           "#EF553B",
           "#00cc96",
           "#ab63fa",
           "#FFA15A",
           "#19d3f3",
           "#FF6692",
           "#B6E880",
           "#FF97FF",
           "#FECB52"
          ],
          "font": {
           "color": "#2a3f5f"
          },
          "geo": {
           "bgcolor": "white",
           "lakecolor": "white",
           "landcolor": "white",
           "showlakes": true,
           "showland": true,
           "subunitcolor": "#C8D4E3"
          },
          "hoverlabel": {
           "align": "left"
          },
          "hovermode": "closest",
          "mapbox": {
           "style": "light"
          },
          "paper_bgcolor": "white",
          "plot_bgcolor": "white",
          "polar": {
           "angularaxis": {
            "gridcolor": "#EBF0F8",
            "linecolor": "#EBF0F8",
            "ticks": ""
           },
           "bgcolor": "white",
           "radialaxis": {
            "gridcolor": "#EBF0F8",
            "linecolor": "#EBF0F8",
            "ticks": ""
           }
          },
          "scene": {
           "xaxis": {
            "backgroundcolor": "white",
            "gridcolor": "#DFE8F3",
            "gridwidth": 2,
            "linecolor": "#EBF0F8",
            "showbackground": true,
            "ticks": "",
            "zerolinecolor": "#EBF0F8"
           },
           "yaxis": {
            "backgroundcolor": "white",
            "gridcolor": "#DFE8F3",
            "gridwidth": 2,
            "linecolor": "#EBF0F8",
            "showbackground": true,
            "ticks": "",
            "zerolinecolor": "#EBF0F8"
           },
           "zaxis": {
            "backgroundcolor": "white",
            "gridcolor": "#DFE8F3",
            "gridwidth": 2,
            "linecolor": "#EBF0F8",
            "showbackground": true,
            "ticks": "",
            "zerolinecolor": "#EBF0F8"
           }
          },
          "shapedefaults": {
           "line": {
            "color": "#2a3f5f"
           }
          },
          "ternary": {
           "aaxis": {
            "gridcolor": "#DFE8F3",
            "linecolor": "#A2B1C6",
            "ticks": ""
           },
           "baxis": {
            "gridcolor": "#DFE8F3",
            "linecolor": "#A2B1C6",
            "ticks": ""
           },
           "bgcolor": "white",
           "caxis": {
            "gridcolor": "#DFE8F3",
            "linecolor": "#A2B1C6",
            "ticks": ""
           }
          },
          "title": {
           "x": 0.05
          },
          "xaxis": {
           "automargin": true,
           "gridcolor": "#EBF0F8",
           "linecolor": "#EBF0F8",
           "ticks": "",
           "title": {
            "standoff": 15
           },
           "zerolinecolor": "#EBF0F8",
           "zerolinewidth": 2
          },
          "yaxis": {
           "automargin": true,
           "gridcolor": "#EBF0F8",
           "linecolor": "#EBF0F8",
           "ticks": "",
           "title": {
            "standoff": 15
           },
           "zerolinecolor": "#EBF0F8",
           "zerolinewidth": 2
          }
         }
        },
        "title": {
         "text": "Relationship Between Spending Capacity and Screentime"
        },
        "xaxis": {
         "anchor": "y",
         "domain": [
          0,
          1
         ],
         "title": {
          "text": "Average Screen Time"
         }
        },
        "yaxis": {
         "anchor": "x",
         "domain": [
          0,
          1
         ],
         "title": {
          "text": "Average Spent on App (INR)"
         }
        }
       }
      },
      "image/png": "[encoded data removed]"
     },
     "metadata": {},
     "output_type": "display_data"
    }
   ],
   "source": [
    "figure = px.scatter(data_frame = df,\n",
    "                    x=\"Average Screen Time\",\n",
    "                    y=\"Average Spent on App (INR)\",\n",
    "                    size=\"Average Spent on App (INR)\",\n",
    "                    color= \"Status\",\n",
    "                    title = \"Relationship Between Spending Capacity and Screentime\",\n",
    "                    trendline=\"ols\")\n",
    "figure. show()\n"
   ]
  },
  {
   "cell_type": "code",
   "execution_count": null,
   "id": "19ab6cd1-88ed-4dff-9bf4-a7338856023b",
   "metadata": {},
   "outputs": [],
   "source": [
    "# Output:-So this is great! Users who uninstalled the app had an average screen time of fewer than 5 minutes a day, and the average spent was less than\n",
    "#100. We can also see a linear relationship between the average screen time and the average spending of the users still using the app."
   ]
  },
  {
   "cell_type": "code",
   "execution_count": null,
   "id": "08aa0ccd-8189-41c1-a64c-b88343a6a0bd",
   "metadata": {},
   "outputs": [],
   "source": [
    "#Now let's have a look at the relationship between the ratings given by users and the average screen time:"
   ]
  },
  {
   "cell_type": "code",
   "execution_count": 21,
   "id": "06b25a4c-bf62-46d7-9e17-a72a49b64867",
   "metadata": {},
   "outputs": [
    {
     "data": {
      "application/vnd.plotly.v1+json": {
       "config": {
        "plotlyServerURL": "https://plot.ly"
       },
       "data": [
        {
         "hovertemplate": "Status=Installed<br>Average Screen Time=%{x}<br>Ratings=%{marker.size}<extra></extra>",
         "legendgroup": "Installed",
         "marker": {
          "color": "#636efa",
          "size": {
           "bdata": "CQgGBQkJAggICAoDCgUKBwYHCgcGCQkICgkFAAkJBgkFBwUFBAcHBQoKCAgGCgkFBQkKCgUJBgoKCgcGCQcDCQUGCgAHCgcHCgoGCQgJBQkEBQQHCgYIAAIFBwUFCgMJCQUJBQUIBwUFBggABQcDBwYIBQUJCAcIAggGBgEGAgcHAAoJBAYICQgFBggDBgkFBwYHCAgGBwoHBwUHBgoICgUFBgEKBQkHCAgDCAYJCQUJCQEHCAUDCgcKBgkHBwoJAgkICQkFCQUGCQoGBggHCAUBAQYJCQUFCQoHCAYJBwcGCAAJCQkKCgoIBwcHCQcJCAoJBwkHCgUGBQoJCQgGBAYJCgUJBwoJCgcJBwYHBQkHBgIJCgAKCgoHCgcCCQoIBgYGCgUIBQcBCAkGBwUICAcIBQkFCAoIBQgJBwoECQgICgcFBwkJBQgHCgYFCAYBBQgJCAoHCgUKCggFCgoGBwgJBgoJAQoHBAUHCAYJCAIKCQYGBwgHAQMCBwUFBAkGBQcIBQYACgkKCAgGBAYHAgUFCAcFCgUFCQAGBwUKBwYIAQYJAwYKBQYIBwgGBgUIBwkJCAkFCQIKCgQKCgcHBQkICQcFAQUKCgoFBggKAAoKBgUHBwUJBwoDCgUHCQkIBgcGCgkIBwoCBAUHCQkFAgoHCQcJCQkIBwUGCQoJBAYGBQYICgUGCgcKBQEFCgUIAQkJBwkJBwoFBQkKBgQJAQoFCAkHCQcFBwgIBQcIBgEDCQcEBQoFBwcIBwYGCAUGAgcGBQYHAwUGCgkGCAUJBQcKCgoIBgcICQYICgQGCAACCAIGCAYKAgcKBQYGBwcCCAkFAwAKCAYKCgkGBgoABAcGAQgGCQcIBwAJCQcJCAgIAQUKBgYFAQcJCAoJCQUJAAcHBQkIBQgKBQoIBwgKAAUGBQoJAgkHCgcHCAoJBQAIBwYICQoGAwYHBwYICggACggGCQgKAAcGAAYFBgoHAAYGCAcGAgcFCQoFBwoKCgcKCQgIAAoICAgFBgoHCAIGBgUGCQcIBwIBBQkEBQoGBgYKBggKCQoJAwQICAgGCAEGCQkBCgkFBwoFBwcKBQoJBwYICQUEBgYFBwoICQoGBwQFBggGCQUGAgoICAcJCQgHBggHCgkKAwgHBgMACQcJCgkICAgGCQcIBAAFBggBCQgGCQUHCgoJCAoGBQUKBgYJCggGBgUIBgkDBQcICAEFBgYFBA==",
           "dtype": "i1"
          },
          "sizemode": "area",
          "sizeref": 0.025,
          "symbol": "circle"
         },
         "mode": "markers",
         "name": "Installed",
         "orientation": "v",
         "showlegend": true,
         "type": "scatter",
         "x": {
          "bdata": "ESUgLRwxCBwcLBgBKSALJiIVEg8iCxoiMCExCS8iHiMMDBYDACgpFQwRKzITLBklDyoqDy0ZIiUgMRQxICUIMSsnIwkyKC4pCxYSJyAsDC4GMAYSDxcYAAotMAEvFQkRGS0eCw8OEQUaDA4EKR8JExALExUmHhsdByEQDwodARMsBiEnCRkoKxAjKxgHETERDhgpLA4WHSwXDi4lIQwoHQ4fMgksLSooIxEFEy8UDQ0eLgcwHRIIJRwZDjIdHxgRCQ8gDikPGgwSDgsjMBggKxUHBSAyEw4pGg8lDh8oJxoYIQoYIRIUHzEnGBkVJCAXGQ8aIw4rEAkPBwwkEg4YCBweLh4eMREgFiokIiUXHw4aEwUhCwQfITEhFhkJES8SLCgXGRkYJxkGKi4kFQAdCxElIw8SMRgMDxobGCcGISsxLCMiICsgEC0ZGC4cHhoIISMMMSIUEgcOKQsPKRYVEiMiEBITAx4NAjINMhciJAcpIhQfIyklCAIIDBYUCigSHycsIjIJDSgsER0hByQRCh4dHSEvIy0TFwchMSkQHhgRBhIXCCkZFBYnFSojKhYZFAsyER0LJwkZLQgNDR8qJA8QHC4iCQ0dHRoTIRAxCBcpKC0qFycQCwsEEAYrFhMlDikcMR0TMB4BBC8TISUHCTEpHhQtISMUEiEYJCkYByIVKygSEw4dMSISBgcTHiEtCBUqIzIULxgaCB4uLAYcBiUbLiMVExkqJCsfJRMXEgUIISIBBygiIyUnDiknGC0WCSkTES8WCBAwKBUtLyEtIBMPLysdERMVGwwWHwgjMgYKMQgfGxwSCC4eIS0fMCQGFhAgBgYtEhALIRkgJR4ICiYeCh8OEAsrFgcfEg4lIhYYBisvCwwaCC0OHygTHCwcBDIkGicYKikiBCgnKBQxChUODxEOBhwqDB0TDRkkBgoULyIeKRkhCR8eFQsXGx4GHBcRGhMgBBkPCCIlKhwnAxcfDSILCBASJR4THg4uJCIjJQseAR0uGCwSCxMRFAUdHB0NMiAhLgYBLTICCS0kGSwgESQUFhcRBQcPHAsYLwYZHw0IHy8rFhMMFC8TJS4fIi4oKR0IGyoJICsTCyMXGwkhLB4wHycXCSUSIhclExkTHxUpIxYOBx8qJQIKFQwUGyQUJx4THBkWBgcEEx0GFhInEhsYLiEdERwPJAgXGDAoIy4wEBgjIxgKCC4iKQomKy8GCQ==",
          "dtype": "i1"
         },
         "xaxis": "x",
         "y": {
          "bdata": "CQgGBQkJAggICAoDCgUKBwYHCgcGCQkICgkFAAkJBgkFBwUFBAcHBQoKCAgGCgkFBQkKCgUJBgoKCgcGCQcDCQUGCgAHCgcHCgoGCQgJBQkEBQQHCgYIAAIFBwUFCgMJCQUJBQUIBwUFBggABQcDBwYIBQUJCAcIAggGBgEGAgcHAAoJBAYICQgFBggDBgkFBwYHCAgGBwoHBwUHBgoICgUFBgEKBQkHCAgDCAYJCQUJCQEHCAUDCgcKBgkHBwoJAgkICQkFCQUGCQoGBggHCAUBAQYJCQUFCQoHCAYJBwcGCAAJCQkKCgoIBwcHCQcJCAoJBwkHCgUGBQoJCQgGBAYJCgUJBwoJCgcJBwYHBQkHBgIJCgAKCgoHCgcCCQoIBgYGCgUIBQcBCAkGBwUICAcIBQkFCAoIBQgJBwoECQgICgcFBwkJBQgHCgYFCAYBBQgJCAoHCgUKCggFCgoGBwgJBgoJAQoHBAUHCAYJCAIKCQYGBwgHAQMCBwUFBAkGBQcIBQYACgkKCAgGBAYHAgUFCAcFCgUFCQAGBwUKBwYIAQYJAwYKBQYIBwgGBgUIBwkJCAkFCQIKCgQKCgcHBQkICQcFAQUKCgoFBggKAAoKBgUHBwUJBwoDCgUHCQkIBgcGCgkIBwoCBAUHCQkFAgoHCQcJCQkIBwUGCQoJBAYGBQYICgUGCgcKBQEFCgUIAQkJBwkJBwoFBQkKBgQJAQoFCAkHCQcFBwgIBQcIBgEDCQcEBQoFBwcIBwYGCAUGAgcGBQYHAwUGCgkGCAUJBQcKCgoIBgcICQYICgQGCAACCAIGCAYKAgcKBQYGBwcCCAkFAwAKCAYKCgkGBgoABAcGAQgGCQcIBwAJCQcJCAgIAQUKBgYFAQcJCAoJCQUJAAcHBQkIBQgKBQoIBwgKAAUGBQoJAgkHCgcHCAoJBQAIBwYICQoGAwYHBwYICggACggGCQgKAAcGAAYFBgoHAAYGCAcGAgcFCQoFBwoKCgcKCQgIAAoICAgFBgoHCAIGBgUGCQcIBwIBBQkEBQoGBgYKBggKCQoJAwQICAgGCAEGCQkBCgkFBwoFBwcKBQoJBwYICQUEBgYFBwoICQoGBwQFBggGCQUGAgoICAcJCQgHBggHCgkKAwgHBgMACQcJCgkICAgGCQcIBAAFBggBCQgGCQUHCgoJCAoGBQUKBgYJCggGBgUIBgkDBQcICAEFBgYFBA==",
          "dtype": "i1"
         },
         "yaxis": "y"
        },
        {
         "hovertemplate": "<b>OLS trendline</b><br>Ratings = 0.0854571 * Average Screen Time + 4.6178<br>R<sup>2</sup>=0.204850<br><br>Status=Installed<br>Average Screen Time=%{x}<br>Ratings=%{y} <b>(trend)</b><extra></extra>",
         "legendgroup": "Installed",
         "marker": {
          "color": "#636efa",
          "symbol": "circle"
         },
         "mode": "lines",
         "name": "Installed",
         "showlegend": false,
         "type": "scatter",
         "x": {
          "bdata": "AAAAAQEBAQEBAQICAgIDAwMEBAQEBAQEBAUFBQUFBQUGBgYGBgYGBgYGBgYGBgYGBgYGBgYGBgcHBwcHBwcHBwcHBwcHBwcHCAgICAgICAgICAgICAgICAgICAgICAgICAkJCQkJCQkJCQkJCQkJCQkJCQkJCgoKCgoKCgoKCgoKCgsLCwsLCwsLCwsLCwsLCwsLCwsLCwsMDAwMDAwMDAwMDAwMDAwMDQ0NDQ0NDQ0NDQ0NDg4ODg4ODg4ODg4ODg4ODg4ODg4ODg4ODg8PDw8PDw8PDw8PDw8PDw8PDw8PEBAQEBAQEBAQEBAQEBAQEBARERERERERERERERERERERERERERERERISEhISEhISEhISEhISEhISEhISEhISEhISExMTExMTExMTExMTExMTExMTExMTExMTExMTExMTExMUFBQUFBQUFBQUFBQUFBQUFBQVFRUVFRUVFRUVFRUVFRUVFRUWFhYWFhYWFhYWFhYWFhYWFhYWFhYXFxcXFxcXFxcXFxcXFxcXFxcXGBgYGBgYGBgYGBgYGBgYGBgYGBgYGBgYGBgYGRkZGRkZGRkZGRkZGRkZGRkZGRkZGRkZGhoaGhoaGhoaGhoaGhobGxsbGxsbGxsbHBwcHBwcHBwcHBwcHBwcHBwcHB0dHR0dHR0dHR0dHR0dHR0dHR0dHR0dHh4eHh4eHh4eHh4eHh4eHh4eHh4eHh4eHh4fHx8fHx8fHx8fHx8fHx8fHx8fHx8fHx8fICAgICAgICAgICAgICAgICAgICEhISEhISEhISEhISEhISEhISEhISEhISEhISIiIiIiIiIiIiIiIiIiIiIiIiIiIiIiIiIiIyMjIyMjIyMjIyMjIyMjIyMjIyMjIyMjJCQkJCQkJCQkJCQkJCQkJCQlJSUlJSUlJSUlJSUlJSUlJSUlJSUlJSUmJiYmJycnJycnJycnJycnJycnJycnJygoKCgoKCgoKCgoKCgoKCgoKCkpKSkpKSkpKSkpKSkpKSkpKSkpKSkpKSoqKioqKioqKioqKioqKiorKysrKysrKysrKysrKysrKywsLCwsLCwsLCwsLCwsLCwtLS0tLS0tLS0tLS0tLS0tLS0tLi4uLi4uLi4uLi4uLi4uLi4uLi8vLy8vLy8vLy8vLy8vLy8wMDAwMDAwMDAwMDExMTExMTExMTExMTExMTExMTEyMjIyMjIyMjIyMjIyMg==",
          "dtype": "i1"
         },
         "xaxis": "x",
         "y": {
          "bdata": "QOTlj6B4EkBA5OWPoHgSQEDk5Y+geBJATw69nSLQEkBPDr2dItASQE8OvZ0i0BJATw69nSLQEkBPDr2dItASQE8OvZ0i0BJATw69nSLQEkBfOJSrpCcTQF84lKukJxNAXziUq6QnE0BfOJSrpCcTQG5ia7kmfxNAbmJruSZ/E0BuYmu5Jn8TQH6MQseo1hNAfoxCx6jWE0B+jELHqNYTQH6MQseo1hNAfoxCx6jWE0B+jELHqNYTQH6MQseo1hNAfoxCx6jWE0CNthnVKi4UQI22GdUqLhRAjbYZ1SouFECNthnVKi4UQI22GdUqLhRAjbYZ1SouFECNthnVKi4UQJzg8OKshRRAnODw4qyFFECc4PDirIUUQJzg8OKshRRAnODw4qyFFECc4PDirIUUQJzg8OKshRRAnODw4qyFFECc4PDirIUUQJzg8OKshRRAnODw4qyFFECc4PDirIUUQJzg8OKshRRAnODw4qyFFECc4PDirIUUQJzg8OKshRRAnODw4qyFFECc4PDirIUUQJzg8OKshRRAnODw4qyFFECc4PDirIUUQJzg8OKshRRAnODw4qyFFECsCsjwLt0UQKwKyPAu3RRArArI8C7dFECsCsjwLt0UQKwKyPAu3RRArArI8C7dFECsCsjwLt0UQKwKyPAu3RRArArI8C7dFECsCsjwLt0UQKwKyPAu3RRArArI8C7dFECsCsjwLt0UQKwKyPAu3RRArArI8C7dFECsCsjwLt0UQKwKyPAu3RRAuzSf/rA0FUC7NJ/+sDQVQLs0n/6wNBVAuzSf/rA0FUC7NJ/+sDQVQLs0n/6wNBVAuzSf/rA0FUC7NJ/+sDQVQLs0n/6wNBVAuzSf/rA0FUC7NJ/+sDQVQLs0n/6wNBVAuzSf/rA0FUC7NJ/+sDQVQLs0n/6wNBVAuzSf/rA0FUC7NJ/+sDQVQLs0n/6wNBVAuzSf/rA0FUC7NJ/+sDQVQLs0n/6wNBVAuzSf/rA0FUC7NJ/+sDQVQLs0n/6wNBVAuzSf/rA0FUDKXnYMM4wVQMpedgwzjBVAyl52DDOMFUDKXnYMM4wVQMpedgwzjBVAyl52DDOMFUDKXnYMM4wVQMpedgwzjBVAyl52DDOMFUDKXnYMM4wVQMpedgwzjBVAyl52DDOMFUDKXnYMM4wVQMpedgwzjBVAyl52DDOMFUDKXnYMM4wVQMpedgwzjBVAyl52DDOMFUDKXnYMM4wVQMpedgwzjBVA2ohNGrXjFUDaiE0ateMVQNqITRq14xVA2ohNGrXjFUDaiE0ateMVQNqITRq14xVA2ohNGrXjFUDaiE0ateMVQNqITRq14xVA2ohNGrXjFUDaiE0ateMVQNqITRq14xVA2ohNGrXjFUDpsiQoNzsWQOmyJCg3OxZA6bIkKDc7FkDpsiQoNzsWQOmyJCg3OxZA6bIkKDc7FkDpsiQoNzsWQOmyJCg3OxZA6bIkKDc7FkDpsiQoNzsWQOmyJCg3OxZA6bIkKDc7FkDpsiQoNzsWQOmyJCg3OxZA6bIkKDc7FkDpsiQoNzsWQOmyJCg3OxZA6bIkKDc7FkDpsiQoNzsWQOmyJCg3OxZA6bIkKDc7FkDpsiQoNzsWQPnc+zW5khZA+dz7NbmSFkD53Ps1uZIWQPnc+zW5khZA+dz7NbmSFkD53Ps1uZIWQPnc+zW5khZA+dz7NbmSFkD53Ps1uZIWQPnc+zW5khZA+dz7NbmSFkD53Ps1uZIWQPnc+zW5khZA+dz7NbmSFkD53Ps1uZIWQPnc+zW5khZACAfTQzvqFkAIB9NDO+oWQAgH00M76hZACAfTQzvqFkAIB9NDO+oWQAgH00M76hZACAfTQzvqFkAIB9NDO+oWQAgH00M76hZACAfTQzvqFkAIB9NDO+oWQAgH00M76hZAGDGqUb1BF0AYMapRvUEXQBgxqlG9QRdAGDGqUb1BF0AYMapRvUEXQBgxqlG9QRdAGDGqUb1BF0AYMapRvUEXQBgxqlG9QRdAGDGqUb1BF0AYMapRvUEXQBgxqlG9QRdAGDGqUb1BF0AYMapRvUEXQBgxqlG9QRdAGDGqUb1BF0AYMapRvUEXQBgxqlG9QRdAGDGqUb1BF0AYMapRvUEXQBgxqlG9QRdAGDGqUb1BF0AYMapRvUEXQBgxqlG9QRdAGDGqUb1BF0AnW4FfP5kXQCdbgV8/mRdAJ1uBXz+ZF0AnW4FfP5kXQCdbgV8/mRdAJ1uBXz+ZF0AnW4FfP5kXQCdbgV8/mRdAJ1uBXz+ZF0AnW4FfP5kXQCdbgV8/mRdAJ1uBXz+ZF0AnW4FfP5kXQCdbgV8/mRdAJ1uBXz+ZF0AnW4FfP5kXQCdbgV8/mRdAJ1uBXz+ZF0AnW4FfP5kXQCdbgV8/mRdANoVYbcHwF0A2hVhtwfAXQDaFWG3B8BdANoVYbcHwF0A2hVhtwfAXQDaFWG3B8BdANoVYbcHwF0A2hVhtwfAXQDaFWG3B8BdANoVYbcHwF0A2hVhtwfAXQDaFWG3B8BdANoVYbcHwF0A2hVhtwfAXQDaFWG3B8BdANoVYbcHwF0A2hVhtwfAXQEavL3tDSBhARq8ve0NIGEBGry97Q0gYQEavL3tDSBhARq8ve0NIGEBGry97Q0gYQEavL3tDSBhARq8ve0NIGEBGry97Q0gYQEavL3tDSBhARq8ve0NIGEBGry97Q0gYQEavL3tDSBhARq8ve0NIGEBGry97Q0gYQEavL3tDSBhARq8ve0NIGEBGry97Q0gYQEavL3tDSBhARq8ve0NIGEBGry97Q0gYQEavL3tDSBhARq8ve0NIGEBV2QaJxZ8YQFXZBonFnxhAVdkGicWfGEBV2QaJxZ8YQFXZBonFnxhAVdkGicWfGEBV2QaJxZ8YQFXZBonFnxhAVdkGicWfGEBV2QaJxZ8YQFXZBonFnxhAVdkGicWfGEBV2QaJxZ8YQFXZBonFnxhAVdkGicWfGEBV2QaJxZ8YQFXZBonFnxhAVdkGicWfGEBV2QaJxZ8YQFXZBonFnxhAVdkGicWfGEBV2QaJxZ8YQFXZBonFnxhAVdkGicWfGEBV2QaJxZ8YQFXZBonFnxhAZAPelkf3GEBkA96WR/cYQGQD3pZH9xhAZAPelkf3GEBkA96WR/cYQGQD3pZH9xhAZAPelkf3GEBkA96WR/cYQGQD3pZH9xhAZAPelkf3GEBkA96WR/cYQGQD3pZH9xhAZAPelkf3GEBkA96WR/cYQGQD3pZH9xhAZAPelkf3GEBkA96WR/cYQGQD3pZH9xhAZAPelkf3GEBkA96WR/cYQGQD3pZH9xhAZAPelkf3GEBkA96WR/cYQGQD3pZH9xhAZAPelkf3GEBkA96WR/cYQGQD3pZH9xhAZAPelkf3GEBkA96WR/cYQGQD3pZH9xhAZAPelkf3GEBkA96WR/cYQHQttaTJThlAdC21pMlOGUB0LbWkyU4ZQHQttaTJThlAdC21pMlOGUB0LbWkyU4ZQHQttaTJThlAdC21pMlOGUB0LbWkyU4ZQHQttaTJThlAdC21pMlOGUB0LbWkyU4ZQHQttaTJThlAdC21pMlOGUB0LbWkyU4ZQHQttaTJThlAdC21pMlOGUB0LbWkyU4ZQINXjLJLphlAg1eMskumGUCDV4yyS6YZQINXjLJLphlAg1eMskumGUCDV4yyS6YZQINXjLJLphlAg1eMskumGUCDV4yyS6YZQINXjLJLphlAg1eMskumGUCDV4yyS6YZQINXjLJLphlAg1eMskumGUCDV4yyS6YZQINXjLJLphlAg1eMskumGUCDV4yyS6YZQJKBY8DN/RlAkoFjwM39GUCSgWPAzf0ZQJKBY8DN/RlAkoFjwM39GUCSgWPAzf0ZQJKBY8DN/RlAkoFjwM39GUCSgWPAzf0ZQJKBY8DN/RlAkoFjwM39GUCSgWPAzf0ZQJKBY8DN/RlAkoFjwM39GUCSgWPAzf0ZQJKBY8DN/RlAkoFjwM39GUCSgWPAzf0ZQJKBY8DN/RlAkoFjwM39GUCSgWPAzf0ZQKKrOs5PVRpAoqs6zk9VGkCiqzrOT1UaQKKrOs5PVRpAoqs6zk9VGkCiqzrOT1UaQKKrOs5PVRpAoqs6zk9VGkCiqzrOT1UaQKKrOs5PVRpAoqs6zk9VGkCiqzrOT1UaQKKrOs5PVRpAoqs6zk9VGkCiqzrOT1UaQKKrOs5PVRpAoqs6zk9VGkCiqzrOT1UaQKKrOs5PVRpAstUR3NGsGkCy1RHc0awaQLLVEdzRrBpAstUR3NGsGkCy1RHc0awaQLLVEdzRrBpAstUR3NGsGkCy1RHc0awaQLLVEdzRrBpAstUR3NGsGkCy1RHc0awaQLLVEdzRrBpAstUR3NGsGkCy1RHc0awaQLLVEdzRrBpAstUR3NGsGkCy1RHc0awaQLLVEdzRrBpAstUR3NGsGkCy1RHc0awaQLLVEdzRrBpAstUR3NGsGkCy1RHc0awaQLLVEdzRrBpAstUR3NGsGkCy1RHc0awaQLLVEdzRrBpAwf/o6VMEG0DB/+jpUwQbQMH/6OlTBBtAwf/o6VMEG0DB/+jpUwQbQMH/6OlTBBtAwf/o6VMEG0DB/+jpUwQbQMH/6OlTBBtAwf/o6VMEG0DB/+jpUwQbQMH/6OlTBBtAwf/o6VMEG0DB/+jpUwQbQMH/6OlTBBtAwf/o6VMEG0DB/+jpUwQbQMH/6OlTBBtAwf/o6VMEG0DB/+jpUwQbQMH/6OlTBBtAwf/o6VMEG0DB/+jpUwQbQMH/6OlTBBtA0CnA99VbG0DQKcD31VsbQNApwPfVWxtA0CnA99VbG0DQKcD31VsbQNApwPfVWxtA0CnA99VbG0DQKcD31VsbQNApwPfVWxtA0CnA99VbG0DQKcD31VsbQNApwPfVWxtA0CnA99VbG0DQKcD31VsbQOBTlwVYsxtA4FOXBVizG0DgU5cFWLMbQOBTlwVYsxtA4FOXBVizG0DgU5cFWLMbQOBTlwVYsxtA4FOXBVizG0DgU5cFWLMbQOBTlwVYsxtA731uE9oKHEDvfW4T2gocQO99bhPaChxA731uE9oKHEDvfW4T2gocQO99bhPaChxA731uE9oKHEDvfW4T2gocQO99bhPaChxA731uE9oKHEDvfW4T2gocQO99bhPaChxA731uE9oKHEDvfW4T2gocQO99bhPaChxA731uE9oKHEDvfW4T2gocQO99bhPaChxA731uE9oKHED+p0UhXGIcQP6nRSFcYhxA/qdFIVxiHED+p0UhXGIcQP6nRSFcYhxA/qdFIVxiHED+p0UhXGIcQP6nRSFcYhxA/qdFIVxiHED+p0UhXGIcQP6nRSFcYhxA/qdFIVxiHED+p0UhXGIcQP6nRSFcYhxA/qdFIVxiHED+p0UhXGIcQP6nRSFcYhxA/qdFIVxiHED+p0UhXGIcQP6nRSFcYhxA/qdFIVxiHED+p0UhXGIcQP6nRSFcYhxADtIcL965HEAO0hwv3rkcQA7SHC/euRxADtIcL965HEAO0hwv3rkcQA7SHC/euRxADtIcL965HEAO0hwv3rkcQA7SHC/euRxADtIcL965HEAO0hwv3rkcQA7SHC/euRxADtIcL965HEAO0hwv3rkcQA7SHC/euRxADtIcL965HEAO0hwv3rkcQA7SHC/euRxADtIcL965HEAO0hwv3rkcQA7SHC/euRxADtIcL965HEAO0hwv3rkcQA7SHC/euRxADtIcL965HEAO0hwv3rkcQB388zxgER1AHfzzPGARHUAd/PM8YBEdQB388zxgER1AHfzzPGARHUAd/PM8YBEdQB388zxgER1AHfzzPGARHUAd/PM8YBEdQB388zxgER1AHfzzPGARHUAd/PM8YBEdQB388zxgER1AHfzzPGARHUAd/PM8YBEdQB388zxgER1AHfzzPGARHUAd/PM8YBEdQB388zxgER1AHfzzPGARHUAd/PM8YBEdQB388zxgER1AHfzzPGARHUAd/PM8YBEdQB388zxgER1ALCbLSuJoHUAsJstK4mgdQCwmy0riaB1ALCbLSuJoHUAsJstK4mgdQCwmy0riaB1ALCbLSuJoHUAsJstK4mgdQCwmy0riaB1ALCbLSuJoHUAsJstK4mgdQCwmy0riaB1ALCbLSuJoHUAsJstK4mgdQCwmy0riaB1ALCbLSuJoHUAsJstK4mgdQCwmy0riaB1ALCbLSuJoHUA8UKJYZMAdQDxQolhkwB1APFCiWGTAHUA8UKJYZMAdQDxQolhkwB1APFCiWGTAHUA8UKJYZMAdQDxQolhkwB1APFCiWGTAHUA8UKJYZMAdQDxQolhkwB1APFCiWGTAHUA8UKJYZMAdQDxQolhkwB1APFCiWGTAHUA8UKJYZMAdQDxQolhkwB1APFCiWGTAHUA8UKJYZMAdQDxQolhkwB1APFCiWGTAHUA8UKJYZMAdQDxQolhkwB1APFCiWGTAHUA8UKJYZMAdQDxQolhkwB1APFCiWGTAHUBMenlm5hceQEx6eWbmFx5ATHp5ZuYXHkBMenlm5hceQEx6eWbmFx5ATHp5ZuYXHkBMenlm5hceQEx6eWbmFx5ATHp5ZuYXHkBMenlm5hceQEx6eWbmFx5ATHp5ZuYXHkBMenlm5hceQEx6eWbmFx5ATHp5ZuYXHkBMenlm5hceQEx6eWbmFx5ATHp5ZuYXHkBMenlm5hceQEx6eWbmFx5ATHp5ZuYXHkBMenlm5hceQEx6eWbmFx5ATHp5ZuYXHkBMenlm5hceQEx6eWbmFx5AWqRQdGhvHkBapFB0aG8eQFqkUHRobx5AWqRQdGhvHkBapFB0aG8eQFqkUHRobx5AWqRQdGhvHkBapFB0aG8eQFqkUHRobx5AWqRQdGhvHkBapFB0aG8eQFqkUHRobx5AWqRQdGhvHkBapFB0aG8eQFqkUHRobx5AWqRQdGhvHkBapFB0aG8eQFqkUHRobx5AWqRQdGhvHkBapFB0aG8eQFqkUHRobx5AWqRQdGhvHkBapFB0aG8eQFqkUHRobx5Aas4ngurGHkBqzieC6sYeQGrOJ4Lqxh5Aas4ngurGHkBqzieC6sYeQGrOJ4Lqxh5Aas4ngurGHkBqzieC6sYeQGrOJ4Lqxh5Aas4ngurGHkBqzieC6sYeQGrOJ4Lqxh5Aas4ngurGHkBqzieC6sYeQGrOJ4Lqxh5Aas4ngurGHkBqzieC6sYeQHr4/o9sHh9Aevj+j2weH0B6+P6PbB4fQHr4/o9sHh9Aevj+j2weH0B6+P6PbB4fQHr4/o9sHh9Aevj+j2weH0B6+P6PbB4fQHr4/o9sHh9Aevj+j2weH0B6+P6PbB4fQHr4/o9sHh9Aevj+j2weH0B6+P6PbB4fQHr4/o9sHh9Aevj+j2weH0B6+P6PbB4fQHr4/o9sHh9Aevj+j2weH0B6+P6PbB4fQHr4/o9sHh9Aevj+j2weH0B6+P6PbB4fQIki1p3udR9AiSLWne51H0CJItad7nUfQIki1p3udR9AmEytq3DNH0CYTK2rcM0fQJhMratwzR9AmEytq3DNH0CYTK2rcM0fQJhMratwzR9AmEytq3DNH0CYTK2rcM0fQJhMratwzR9AmEytq3DNH0CYTK2rcM0fQJhMratwzR9AmEytq3DNH0CYTK2rcM0fQJhMratwzR9AmEytq3DNH0CYTK2rcM0fQJhMratwzR9AmEytq3DNH0BUO8JceRIgQFQ7wlx5EiBAVDvCXHkSIEBUO8JceRIgQFQ7wlx5EiBAVDvCXHkSIEBUO8JceRIgQFQ7wlx5EiBAVDvCXHkSIEBUO8JceRIgQFQ7wlx5EiBAVDvCXHkSIEBUO8JceRIgQFQ7wlx5EiBAVDvCXHkSIEBUO8JceRIgQFQ7wlx5EiBAVDvCXHkSIEBc0K1jOj4gQFzQrWM6PiBAXNCtYzo+IEBc0K1jOj4gQFzQrWM6PiBAXNCtYzo+IEBc0K1jOj4gQFzQrWM6PiBAXNCtYzo+IEBc0K1jOj4gQFzQrWM6PiBAXNCtYzo+IEBc0K1jOj4gQFzQrWM6PiBAXNCtYzo+IEBc0K1jOj4gQFzQrWM6PiBAXNCtYzo+IEBc0K1jOj4gQFzQrWM6PiBAXNCtYzo+IEBc0K1jOj4gQFzQrWM6PiBAXNCtYzo+IEBjZZlq+2kgQGNlmWr7aSBAY2WZavtpIEBjZZlq+2kgQGNlmWr7aSBAY2WZavtpIEBjZZlq+2kgQGNlmWr7aSBAY2WZavtpIEBjZZlq+2kgQGNlmWr7aSBAY2WZavtpIEBjZZlq+2kgQGNlmWr7aSBAY2WZavtpIEBjZZlq+2kgQGv6hHG8lSBAa/qEcbyVIEBr+oRxvJUgQGv6hHG8lSBAa/qEcbyVIEBr+oRxvJUgQGv6hHG8lSBAa/qEcbyVIEBr+oRxvJUgQGv6hHG8lSBAa/qEcbyVIEBr+oRxvJUgQGv6hHG8lSBAa/qEcbyVIEBr+oRxvJUgQGv6hHG8lSBAa/qEcbyVIEByj3B4fcEgQHKPcHh9wSBAco9weH3BIEByj3B4fcEgQHKPcHh9wSBAco9weH3BIEByj3B4fcEgQHKPcHh9wSBAco9weH3BIEByj3B4fcEgQHKPcHh9wSBAco9weH3BIEByj3B4fcEgQHKPcHh9wSBAco9weH3BIEByj3B4fcEgQHokXH8+7SBAeiRcfz7tIEB6JFx/Pu0gQHokXH8+7SBAeiRcfz7tIEB6JFx/Pu0gQHokXH8+7SBAeiRcfz7tIEB6JFx/Pu0gQHokXH8+7SBAeiRcfz7tIEB6JFx/Pu0gQHokXH8+7SBAeiRcfz7tIEB6JFx/Pu0gQHokXH8+7SBAeiRcfz7tIEB6JFx/Pu0gQHokXH8+7SBAgrlHhv8YIUCCuUeG/xghQIK5R4b/GCFAgrlHhv8YIUCCuUeG/xghQIK5R4b/GCFAgrlHhv8YIUCCuUeG/xghQIK5R4b/GCFAgrlHhv8YIUCCuUeG/xghQIK5R4b/GCFAgrlHhv8YIUCCuUeG/xghQIK5R4b/GCFAgrlHhv8YIUCCuUeG/xghQIK5R4b/GCFAgrlHhv8YIUCKTjONwEQhQIpOM43ARCFAik4zjcBEIUCKTjONwEQhQIpOM43ARCFAik4zjcBEIUCKTjONwEQhQIpOM43ARCFAik4zjcBEIUCKTjONwEQhQIpOM43ARCFAik4zjcBEIUCKTjONwEQhQIpOM43ARCFAik4zjcBEIUCKTjONwEQhQJLjHpSBcCFAkuMelIFwIUCS4x6UgXAhQJLjHpSBcCFAkuMelIFwIUCS4x6UgXAhQJLjHpSBcCFAkuMelIFwIUCS4x6UgXAhQJLjHpSBcCFAkuMelIFwIUCZeAqbQpwhQJl4CptCnCFAmXgKm0KcIUCZeAqbQpwhQJl4CptCnCFAmXgKm0KcIUCZeAqbQpwhQJl4CptCnCFAmXgKm0KcIUCZeAqbQpwhQJl4CptCnCFAmXgKm0KcIUCZeAqbQpwhQJl4CptCnCFAmXgKm0KcIUCZeAqbQpwhQJl4CptCnCFAmXgKm0KcIUCZeAqbQpwhQKEN9qEDyCFAoQ32oQPIIUChDfahA8ghQKEN9qEDyCFAoQ32oQPIIUChDfahA8ghQKEN9qEDyCFAoQ32oQPIIUChDfahA8ghQKEN9qEDyCFAoQ32oQPIIUChDfahA8ghQKEN9qEDyCFAoQ32oQPIIUA=",
          "dtype": "f8"
         },
         "yaxis": "y"
        },
        {
         "hovertemplate": "Status=Uninstalled<br>Average Screen Time=%{x}<br>Ratings=%{marker.size}<extra></extra>",
         "legendgroup": "Uninstalled",
         "marker": {
          "color": "#EF553B",
          "size": {
           "bdata": "BAECBQIDBAUABAEAAgIAAgMDAAEABAUEBQACBAABBAQFAAIDAAMAAgQABQUEAgMCAwADBQACAgMBBQECAgEABQUEAgIFAgICAwEDAwQEAwEFAwU=",
           "dtype": "i1"
          },
          "sizemode": "area",
          "sizeref": 0.025,
          "symbol": "circle"
         },
         "mode": "markers",
         "name": "Uninstalled",
         "orientation": "v",
         "showlegend": true,
         "type": "scatter",
         "x": {
          "bdata": "AAEEAwUFAAEBAwADAgEDAwMEBAECAAEDBAMEAAACAQUABQEEBAAEBQQABQACAgUFAgEFAAIBBQAAAQIDBAMBAAEABAICAwQBAwMABQIEAgACAQI=",
          "dtype": "i1"
         },
         "xaxis": "x",
         "y": {
          "bdata": "BAECBQIDBAUABAEAAgIAAgMDAAEABAUEBQACBAABBAQFAAIDAAMAAgQABQUEAgMCAwADBQACAgMBBQECAgEABQUEAgIFAgICAwEDAwQEAwEFAwU=",
          "dtype": "i1"
         },
         "yaxis": "y"
        },
        {
         "hovertemplate": "<b>OLS trendline</b><br>Ratings = -0.11416 * Average Screen Time + 2.80212<br>R<sup>2</sup>=0.013482<br><br>Status=Uninstalled<br>Average Screen Time=%{x}<br>Ratings=%{y} <b>(trend)</b><extra></extra>",
         "legendgroup": "Uninstalled",
         "marker": {
          "color": "#EF553B",
          "symbol": "circle"
         },
         "mode": "lines",
         "name": "Uninstalled",
         "showlegend": false,
         "type": "scatter",
         "x": {
          "bdata": "AAAAAAAAAAAAAAAAAAAAAAABAQEBAQEBAQEBAQEBAQECAgICAgICAgICAgICAgMDAwMDAwMDAwMDAwMEBAQEBAQEBAQEBAQEBQUFBQUFBQUFBQU=",
          "dtype": "i1"
         },
         "xaxis": "x",
         "y": {
          "bdata": "VWrmcr9qBkBVauZyv2oGQFVq5nK/agZAVWrmcr9qBkBVauZyv2oGQFVq5nK/agZAVWrmcr9qBkBVauZyv2oGQFVq5nK/agZAVWrmcr9qBkBVauZyv2oGQFVq5nK/agZAVWrmcr9qBkBVauZyv2oGQFVq5nK/agZAVWrmcr9qBkBVauZyv2oGQNUdutLygAVA1R260vKABUDVHbrS8oAFQNUdutLygAVA1R260vKABUDVHbrS8oAFQNUdutLygAVA1R260vKABUDVHbrS8oAFQNUdutLygAVA1R260vKABUDVHbrS8oAFQNUdutLygAVA1R260vKABUDVHbrS8oAFQFXRjTImlwRAVdGNMiaXBEBV0Y0yJpcEQFXRjTImlwRAVdGNMiaXBEBV0Y0yJpcEQFXRjTImlwRAVdGNMiaXBEBV0Y0yJpcEQFXRjTImlwRAVdGNMiaXBEBV0Y0yJpcEQFXRjTImlwRAVdGNMiaXBEDVhGGSWa0DQNWEYZJZrQNA1YRhklmtA0DVhGGSWa0DQNWEYZJZrQNA1YRhklmtA0DVhGGSWa0DQNWEYZJZrQNA1YRhklmtA0DVhGGSWa0DQNWEYZJZrQNA1YRhklmtA0DVhGGSWa0DQFU4NfKMwwJAVTg18ozDAkBVODXyjMMCQFU4NfKMwwJAVTg18ozDAkBVODXyjMMCQFU4NfKMwwJAVTg18ozDAkBVODXyjMMCQFU4NfKMwwJAVTg18ozDAkBVODXyjMMCQFU4NfKMwwJA1usIUsDZAUDW6whSwNkBQNbrCFLA2QFA1usIUsDZAUDW6whSwNkBQNbrCFLA2QFA1usIUsDZAUDW6whSwNkBQNbrCFLA2QFA1usIUsDZAUDW6whSwNkBQA==",
          "dtype": "f8"
         },
         "yaxis": "y"
        }
       ],
       "layout": {
        "legend": {
         "itemsizing": "constant",
         "title": {
          "text": "Status"
         },
         "tracegroupgap": 0
        },
        "template": {
         "data": {
          "bar": [
           {
            "error_x": {
             "color": "#2a3f5f"
            },
            "error_y": {
             "color": "#2a3f5f"
            },
            "marker": {
             "line": {
              "color": "white",
              "width": 0.5
             },
             "pattern": {
              "fillmode": "overlay",
              "size": 10,
              "solidity": 0.2
             }
            },
            "type": "bar"
           }
          ],
          "barpolar": [
           {
            "marker": {
             "line": {
              "color": "white",
              "width": 0.5
             },
             "pattern": {
              "fillmode": "overlay",
              "size": 10,
              "solidity": 0.2
             }
            },
            "type": "barpolar"
           }
          ],
          "carpet": [
           {
            "aaxis": {
             "endlinecolor": "#2a3f5f",
             "gridcolor": "#C8D4E3",
             "linecolor": "#C8D4E3",
             "minorgridcolor": "#C8D4E3",
             "startlinecolor": "#2a3f5f"
            },
            "baxis": {
             "endlinecolor": "#2a3f5f",
             "gridcolor": "#C8D4E3",
             "linecolor": "#C8D4E3",
             "minorgridcolor": "#C8D4E3",
             "startlinecolor": "#2a3f5f"
            },
            "type": "carpet"
           }
          ],
          "choropleth": [
           {
            "colorbar": {
             "outlinewidth": 0,
             "ticks": ""
            },
            "type": "choropleth"
           }
          ],
          "contour": [
           {
            "colorbar": {
             "outlinewidth": 0,
             "ticks": ""
            },
            "colorscale": [
             [
              0,
              "#0d0887"
             ],
             [
              0.1111111111111111,
              "#46039f"
             ],
             [
              0.2222222222222222,
              "#7201a8"
             ],
             [
              0.3333333333333333,
              "#9c179e"
             ],
             [
              0.4444444444444444,
              "#bd3786"
             ],
             [
              0.5555555555555556,
              "#d8576b"
             ],
             [
              0.6666666666666666,
              "#ed7953"
             ],
             [
              0.7777777777777778,
              "#fb9f3a"
             ],
             [
              0.8888888888888888,
              "#fdca26"
             ],
             [
              1,
              "#f0f921"
             ]
            ],
            "type": "contour"
           }
          ],
          "contourcarpet": [
           {
            "colorbar": {
             "outlinewidth": 0,
             "ticks": ""
            },
            "type": "contourcarpet"
           }
          ],
          "heatmap": [
           {
            "colorbar": {
             "outlinewidth": 0,
             "ticks": ""
            },
            "colorscale": [
             [
              0,
              "#0d0887"
             ],
             [
              0.1111111111111111,
              "#46039f"
             ],
             [
              0.2222222222222222,
              "#7201a8"
             ],
             [
              0.3333333333333333,
              "#9c179e"
             ],
             [
              0.4444444444444444,
              "#bd3786"
             ],
             [
              0.5555555555555556,
              "#d8576b"
             ],
             [
              0.6666666666666666,
              "#ed7953"
             ],
             [
              0.7777777777777778,
              "#fb9f3a"
             ],
             [
              0.8888888888888888,
              "#fdca26"
             ],
             [
              1,
              "#f0f921"
             ]
            ],
            "type": "heatmap"
           }
          ],
          "histogram": [
           {
            "marker": {
             "pattern": {
              "fillmode": "overlay",
              "size": 10,
              "solidity": 0.2
             }
            },
            "type": "histogram"
           }
          ],
          "histogram2d": [
           {
            "colorbar": {
             "outlinewidth": 0,
             "ticks": ""
            },
            "colorscale": [
             [
              0,
              "#0d0887"
             ],
             [
              0.1111111111111111,
              "#46039f"
             ],
             [
              0.2222222222222222,
              "#7201a8"
             ],
             [
              0.3333333333333333,
              "#9c179e"
             ],
             [
              0.4444444444444444,
              "#bd3786"
             ],
             [
              0.5555555555555556,
              "#d8576b"
             ],
             [
              0.6666666666666666,
              "#ed7953"
             ],
             [
              0.7777777777777778,
              "#fb9f3a"
             ],
             [
              0.8888888888888888,
              "#fdca26"
             ],
             [
              1,
              "#f0f921"
             ]
            ],
            "type": "histogram2d"
           }
          ],
          "histogram2dcontour": [
           {
            "colorbar": {
             "outlinewidth": 0,
             "ticks": ""
            },
            "colorscale": [
             [
              0,
              "#0d0887"
             ],
             [
              0.1111111111111111,
              "#46039f"
             ],
             [
              0.2222222222222222,
              "#7201a8"
             ],
             [
              0.3333333333333333,
              "#9c179e"
             ],
             [
              0.4444444444444444,
              "#bd3786"
             ],
             [
              0.5555555555555556,
              "#d8576b"
             ],
             [
              0.6666666666666666,
              "#ed7953"
             ],
             [
              0.7777777777777778,
              "#fb9f3a"
             ],
             [
              0.8888888888888888,
              "#fdca26"
             ],
             [
              1,
              "#f0f921"
             ]
            ],
            "type": "histogram2dcontour"
           }
          ],
          "mesh3d": [
           {
            "colorbar": {
             "outlinewidth": 0,
             "ticks": ""
            },
            "type": "mesh3d"
           }
          ],
          "parcoords": [
           {
            "line": {
             "colorbar": {
              "outlinewidth": 0,
              "ticks": ""
             }
            },
            "type": "parcoords"
           }
          ],
          "pie": [
           {
            "automargin": true,
            "type": "pie"
           }
          ],
          "scatter": [
           {
            "fillpattern": {
             "fillmode": "overlay",
             "size": 10,
             "solidity": 0.2
            },
            "type": "scatter"
           }
          ],
          "scatter3d": [
           {
            "line": {
             "colorbar": {
              "outlinewidth": 0,
              "ticks": ""
             }
            },
            "marker": {
             "colorbar": {
              "outlinewidth": 0,
              "ticks": ""
             }
            },
            "type": "scatter3d"
           }
          ],
          "scattercarpet": [
           {
            "marker": {
             "colorbar": {
              "outlinewidth": 0,
              "ticks": ""
             }
            },
            "type": "scattercarpet"
           }
          ],
          "scattergeo": [
           {
            "marker": {
             "colorbar": {
              "outlinewidth": 0,
              "ticks": ""
             }
            },
            "type": "scattergeo"
           }
          ],
          "scattergl": [
           {
            "marker": {
             "colorbar": {
              "outlinewidth": 0,
              "ticks": ""
             }
            },
            "type": "scattergl"
           }
          ],
          "scattermap": [
           {
            "marker": {
             "colorbar": {
              "outlinewidth": 0,
              "ticks": ""
             }
            },
            "type": "scattermap"
           }
          ],
          "scattermapbox": [
           {
            "marker": {
             "colorbar": {
              "outlinewidth": 0,
              "ticks": ""
             }
            },
            "type": "scattermapbox"
           }
          ],
          "scatterpolar": [
           {
            "marker": {
             "colorbar": {
              "outlinewidth": 0,
              "ticks": ""
             }
            },
            "type": "scatterpolar"
           }
          ],
          "scatterpolargl": [
           {
            "marker": {
             "colorbar": {
              "outlinewidth": 0,
              "ticks": ""
             }
            },
            "type": "scatterpolargl"
           }
          ],
          "scatterternary": [
           {
            "marker": {
             "colorbar": {
              "outlinewidth": 0,
              "ticks": ""
             }
            },
            "type": "scatterternary"
           }
          ],
          "surface": [
           {
            "colorbar": {
             "outlinewidth": 0,
             "ticks": ""
            },
            "colorscale": [
             [
              0,
              "#0d0887"
             ],
             [
              0.1111111111111111,
              "#46039f"
             ],
             [
              0.2222222222222222,
              "#7201a8"
             ],
             [
              0.3333333333333333,
              "#9c179e"
             ],
             [
              0.4444444444444444,
              "#bd3786"
             ],
             [
              0.5555555555555556,
              "#d8576b"
             ],
             [
              0.6666666666666666,
              "#ed7953"
             ],
             [
              0.7777777777777778,
              "#fb9f3a"
             ],
             [
              0.8888888888888888,
              "#fdca26"
             ],
             [
              1,
              "#f0f921"
             ]
            ],
            "type": "surface"
           }
          ],
          "table": [
           {
            "cells": {
             "fill": {
              "color": "#EBF0F8"
             },
             "line": {
              "color": "white"
             }
            },
            "header": {
             "fill": {
              "color": "#C8D4E3"
             },
             "line": {
              "color": "white"
             }
            },
            "type": "table"
           }
          ]
         },
         "layout": {
          "annotationdefaults": {
           "arrowcolor": "#2a3f5f",
           "arrowhead": 0,
           "arrowwidth": 1
          },
          "autotypenumbers": "strict",
          "coloraxis": {
           "colorbar": {
            "outlinewidth": 0,
            "ticks": ""
           }
          },
          "colorscale": {
           "diverging": [
            [
             0,
             "#8e0152"
            ],
            [
             0.1,
             "#c51b7d"
            ],
            [
             0.2,
             "#de77ae"
            ],
            [
             0.3,
             "#f1b6da"
            ],
            [
             0.4,
             "#fde0ef"
            ],
            [
             0.5,
             "#f7f7f7"
            ],
            [
             0.6,
             "#e6f5d0"
            ],
            [
             0.7,
             "#b8e186"
            ],
            [
             0.8,
             "#7fbc41"
            ],
            [
             0.9,
             "#4d9221"
            ],
            [
             1,
             "#276419"
            ]
           ],
           "sequential": [
            [
             0,
             "#0d0887"
            ],
            [
             0.1111111111111111,
             "#46039f"
            ],
            [
             0.2222222222222222,
             "#7201a8"
            ],
            [
             0.3333333333333333,
             "#9c179e"
            ],
            [
             0.4444444444444444,
             "#bd3786"
            ],
            [
             0.5555555555555556,
             "#d8576b"
            ],
            [
             0.6666666666666666,
             "#ed7953"
            ],
            [
             0.7777777777777778,
             "#fb9f3a"
            ],
            [
             0.8888888888888888,
             "#fdca26"
            ],
            [
             1,
             "#f0f921"
            ]
           ],
           "sequentialminus": [
            [
             0,
             "#0d0887"
            ],
            [
             0.1111111111111111,
             "#46039f"
            ],
            [
             0.2222222222222222,
             "#7201a8"
            ],
            [
             0.3333333333333333,
             "#9c179e"
            ],
            [
             0.4444444444444444,
             "#bd3786"
            ],
            [
             0.5555555555555556,
             "#d8576b"
            ],
            [
             0.6666666666666666,
             "#ed7953"
            ],
            [
             0.7777777777777778,
             "#fb9f3a"
            ],
            [
             0.8888888888888888,
             "#fdca26"
            ],
            [
             1,
             "#f0f921"
            ]
           ]
          },
          "colorway": [
           "#636efa",
           "#EF553B",
           "#00cc96",
           "#ab63fa",
           "#FFA15A",
           "#19d3f3",
           "#FF6692",
           "#B6E880",
           "#FF97FF",
           "#FECB52"
          ],
          "font": {
           "color": "#2a3f5f"
          },
          "geo": {
           "bgcolor": "white",
           "lakecolor": "white",
           "landcolor": "white",
           "showlakes": true,
           "showland": true,
           "subunitcolor": "#C8D4E3"
          },
          "hoverlabel": {
           "align": "left"
          },
          "hovermode": "closest",
          "mapbox": {
           "style": "light"
          },
          "paper_bgcolor": "white",
          "plot_bgcolor": "white",
          "polar": {
           "angularaxis": {
            "gridcolor": "#EBF0F8",
            "linecolor": "#EBF0F8",
            "ticks": ""
           },
           "bgcolor": "white",
           "radialaxis": {
            "gridcolor": "#EBF0F8",
            "linecolor": "#EBF0F8",
            "ticks": ""
           }
          },
          "scene": {
           "xaxis": {
            "backgroundcolor": "white",
            "gridcolor": "#DFE8F3",
            "gridwidth": 2,
            "linecolor": "#EBF0F8",
            "showbackground": true,
            "ticks": "",
            "zerolinecolor": "#EBF0F8"
           },
           "yaxis": {
            "backgroundcolor": "white",
            "gridcolor": "#DFE8F3",
            "gridwidth": 2,
            "linecolor": "#EBF0F8",
            "showbackground": true,
            "ticks": "",
            "zerolinecolor": "#EBF0F8"
           },
           "zaxis": {
            "backgroundcolor": "white",
            "gridcolor": "#DFE8F3",
            "gridwidth": 2,
            "linecolor": "#EBF0F8",
            "showbackground": true,
            "ticks": "",
            "zerolinecolor": "#EBF0F8"
           }
          },
          "shapedefaults": {
           "line": {
            "color": "#2a3f5f"
           }
          },
          "ternary": {
           "aaxis": {
            "gridcolor": "#DFE8F3",
            "linecolor": "#A2B1C6",
            "ticks": ""
           },
           "baxis": {
            "gridcolor": "#DFE8F3",
            "linecolor": "#A2B1C6",
            "ticks": ""
           },
           "bgcolor": "white",
           "caxis": {
            "gridcolor": "#DFE8F3",
            "linecolor": "#A2B1C6",
            "ticks": ""
           }
          },
          "title": {
           "x": 0.05
          },
          "xaxis": {
           "automargin": true,
           "gridcolor": "#EBF0F8",
           "linecolor": "#EBF0F8",
           "ticks": "",
           "title": {
            "standoff": 15
           },
           "zerolinecolor": "#EBF0F8",
           "zerolinewidth": 2
          },
          "yaxis": {
           "automargin": true,
           "gridcolor": "#EBF0F8",
           "linecolor": "#EBF0F8",
           "ticks": "",
           "title": {
            "standoff": 15
           },
           "zerolinecolor": "#EBF0F8",
           "zerolinewidth": 2
          }
         }
        },
        "title": {
         "text": "Relationship Between Ratings and Screentime"
        },
        "xaxis": {
         "anchor": "y",
         "domain": [
          0,
          1
         ],
         "title": {
          "text": "Average Screen Time"
         }
        },
        "yaxis": {
         "anchor": "x",
         "domain": [
          0,
          1
         ],
         "title": {
          "text": "Ratings"
         }
        }
       }
      },
      "image/png": "[encoded data removed]"
     },
     "metadata": {},
     "output_type": "display_data"
    }
   ],
   "source": [
    "figure = px. scatter(data_frame = df,\n",
    "                    x=\"Average Screen Time\",\n",
    "                    y=\"Ratings\",\n",
    "                    size=\"Ratings\",\n",
    "                    color= \"Status\",\n",
    "                    title = \"Relationship Between Ratings and Screentime\",\n",
    "                    trendline=\"ols\")\n",
    "figure. show()"
   ]
  },
  {
   "cell_type": "code",
   "execution_count": 10,
   "id": "8b468228-5da5-4cb3-b905-4c7712afe901",
   "metadata": {},
   "outputs": [],
   "source": [
    "# App User Segmentation to Find Retained and Lost Users"
   ]
  },
  {
   "cell_type": "code",
   "execution_count": 11,
   "id": "21ac0e28-82b9-4318-a563-0decc55aec1e",
   "metadata": {},
   "outputs": [],
   "source": [
    "clustering_data = df[[\"Average Screen Time\", \"Left Review\",\n",
    "                        \"Ratings\", \"Last Visited Minutes\",\n",
    "                        \"Average Spent on App (INR)\",\n",
    "                        \"New Password Request\"]]"
   ]
  },
  {
   "cell_type": "code",
   "execution_count": 14,
   "id": "7f4dfc7b-6209-4e2c-bef2-688f47263384",
   "metadata": {},
   "outputs": [
    {
     "name": "stdout",
     "output_type": "stream",
     "text": [
      "   userid  Average Screen Time  Average Spent on App (INR)  Left Review  \\\n",
      "0    1001                   17                         634            1   \n",
      "1    1002                    0                          54            0   \n",
      "2    1003                   37                         207            0   \n",
      "3    1004                   32                         445            1   \n",
      "4    1005                   45                         427            1   \n",
      "5    1006                   28                         599            0   \n",
      "6    1007                   49                         887            1   \n",
      "7    1008                    8                          31            0   \n",
      "8    1009                   28                         741            1   \n",
      "9    1010                   28                         524            1   \n",
      "\n",
      "   Ratings  New Password Request  Last Visited Minutes       Status  Segments  \n",
      "0        9                     7                  2990    Installed         0  \n",
      "1        4                     8                 24008  Uninstalled         2  \n",
      "2        8                     5                   971    Installed         0  \n",
      "3        6                     2                   799    Installed         0  \n",
      "4        5                     6                  3668    Installed         0  \n",
      "5        9                     4                  2878    Installed         0  \n",
      "6        9                     6                  4481    Installed         0  \n",
      "7        2                     1                  1715    Installed         0  \n",
      "8        8                     2                   801    Installed         0  \n",
      "9        8                     4                  4621    Installed         0  \n"
     ]
    }
   ],
   "source": [
    "from sklearn.preprocessing import MinMaxScaler\n",
    "for i in clustering_data.columns:\n",
    "    MinMaxScaler(i)\n",
    "\n",
    "from sklearn.cluster import KMeans\n",
    "kmeans = KMeans(n_clusters=3)\n",
    "clusters = kmeans.fit_predict(clustering_data)\n",
    "df[\"Segments\"] = clusters\n",
    "print(df.head(10))"
   ]
  },
  {
   "cell_type": "code",
   "execution_count": 16,
   "id": "3016b870-83ae-493a-9504-57d896d8f2a4",
   "metadata": {},
   "outputs": [
    {
     "name": "stdout",
     "output_type": "stream",
     "text": [
      "Segments\n",
      "0    910\n",
      "1     45\n",
      "2     44\n",
      "Name: count, dtype: int64\n"
     ]
    }
   ],
   "source": [
    "print(df[\"Segments\"].value_counts())"
   ]
  },
  {
   "cell_type": "code",
   "execution_count": null,
   "id": "2aa61ac3-099c-4176-b61e-d3268e61a824",
   "metadata": {},
   "outputs": [],
   "source": []
  },
  {
   "cell_type": "code",
   "execution_count": 17,
   "id": "cc9f6df4-ed2c-4c80-ad48-f958cbafbebc",
   "metadata": {},
   "outputs": [],
   "source": [
    "# Now let's rename the segments for a better understanding:"
   ]
  },
  {
   "cell_type": "code",
   "execution_count": 18,
   "id": "428ec8df-d48f-4fff-ad92-02f3c0370e21",
   "metadata": {},
   "outputs": [],
   "source": [
    "df[\"Segments\"] = df[\"Segments\"].map({0: \"Retained\", 1:\n",
    "\"Churn\", 2: \"Needs Attention\"})"
   ]
  },
  {
   "cell_type": "code",
   "execution_count": 23,
   "id": "21e1aefe-38c3-4b79-bbe8-c20962c92bde",
   "metadata": {},
   "outputs": [
    {
     "data": {
      "text/html": [
       "<div>\n",
       "<style scoped>\n",
       "    .dataframe tbody tr th:only-of-type {\n",
       "        vertical-align: middle;\n",
       "    }\n",
       "\n",
       "    .dataframe tbody tr th {\n",
       "        vertical-align: top;\n",
       "    }\n",
       "\n",
       "    .dataframe thead th {\n",
       "        text-align: right;\n",
       "    }\n",
       "</style>\n",
       "<table border=\"1\" class=\"dataframe\">\n",
       "  <thead>\n",
       "    <tr style=\"text-align: right;\">\n",
       "      <th></th>\n",
       "      <th>userid</th>\n",
       "      <th>Average Screen Time</th>\n",
       "      <th>Average Spent on App (INR)</th>\n",
       "      <th>Left Review</th>\n",
       "      <th>Ratings</th>\n",
       "      <th>New Password Request</th>\n",
       "      <th>Last Visited Minutes</th>\n",
       "      <th>Status</th>\n",
       "      <th>Segments</th>\n",
       "    </tr>\n",
       "  </thead>\n",
       "  <tbody>\n",
       "    <tr>\n",
       "      <th>0</th>\n",
       "      <td>1001</td>\n",
       "      <td>17</td>\n",
       "      <td>634</td>\n",
       "      <td>1</td>\n",
       "      <td>9</td>\n",
       "      <td>7</td>\n",
       "      <td>2990</td>\n",
       "      <td>Installed</td>\n",
       "      <td>Retained</td>\n",
       "    </tr>\n",
       "  </tbody>\n",
       "</table>\n",
       "</div>"
      ],
      "text/plain": [
       "   userid  Average Screen Time  Average Spent on App (INR)  Left Review  \\\n",
       "0    1001                   17                         634            1   \n",
       "\n",
       "   Ratings  New Password Request  Last Visited Minutes     Status  Segments  \n",
       "0        9                     7                  2990  Installed  Retained  "
      ]
     },
     "execution_count": 23,
     "metadata": {},
     "output_type": "execute_result"
    }
   ],
   "source": [
    "df.head(1)"
   ]
  },
  {
   "cell_type": "code",
   "execution_count": 25,
   "id": "5fad67d9-5a19-418f-bc29-4b412de00032",
   "metadata": {},
   "outputs": [
    {
     "data": {
      "application/vnd.plotly.v1+json": {
       "config": {
        "plotlyServerURL": "https://plot.ly"
       },
       "data": [
        {
         "hovertemplate": "Last Visited Minutes: %{x} <br>Average Spent on App (INR): %{y}",
         "marker": {
          "line": {
           "width": 1
          },
          "size": 6
         },
         "mode": "markers",
         "name": "Retained",
         "type": "scatter",
         "x": {
          "bdata": "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",
          "dtype": "i2"
         },
         "y": {
          "bdata": "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",
          "dtype": "i2"
         }
        },
        {
         "hovertemplate": "Last Visited Minutes: %{x} <br>Average Spent on App (INR): %{y}",
         "marker": {
          "line": {
           "width": 1
          },
          "size": 6
         },
         "mode": "markers",
         "name": "Needs Attention",
         "type": "scatter",
         "x": {
          "bdata": "yF0lZ4NZEzSObVUxvWTwXRlzs0vNOg9bUGANSWhT5kLRNVNWi0BOS/Vp1DqqZv0/Kz54MoMveE8YYNxgNUhRPjBuok3BXIRWXUj+My49qWtOacM+xD8gPg==",
          "dtype": "i2"
         },
         "y": {
          "bdata": "NjAXFCwNUy5kXEUKEU0gX2QqLxwyUT47VC44MSpYSw0tJAoEXVcMHjEDXx8=",
          "dtype": "i1"
         }
        },
        {
         "hovertemplate": "Last Visited Minutes: %{x} <br>Average Spent on App (INR): %{y}",
         "marker": {
          "line": {
           "width": 1
          },
          "size": 6
         },
         "mode": "markers",
         "name": "Churn",
         "type": "scatter",
         "x": {
          "bdata": "R5QAALbAAABomAAA43YAAKSfAAB1pAAAuYIAAIOjAACbngAA7HsAAIKqAABYlwAApZcAADPCAAB1jgAAG7EAAFO4AAAgwgAA8ZgAAMKTAAAufgAATZIAADS5AADOfAAAm7MAADmWAADRsAAAfo4AAOq2AABikgAA86wAAFOvAABbhgAACX4AADaYAABLrAAAwKIAAJx7AACNhgAA/X0AAHWPAACcgwAA+n8AAKayAABGmgAA",
          "dtype": "i4"
         },
         "y": {
          "bdata": "YV0iQxpeCEsqXyUzXRBbJx9dGWE6D0tCERUZGWMkGmABXFcGBQBUYR1OKkkr",
          "dtype": "i1"
         }
        }
       ],
       "layout": {
        "autosize": true,
        "height": 800,
        "scene": {
         "xaxis": {
          "title": {
           "font": {
            "color": "black"
           },
           "text": "Last Visited Minutes"
          }
         },
         "yaxis": {
          "title": {
           "font": {
            "color": "black"
           },
           "text": "Average Spent on App (INR)"
          }
         }
        },
        "showlegend": true,
        "template": {
         "data": {
          "bar": [
           {
            "error_x": {
             "color": "#2a3f5f"
            },
            "error_y": {
             "color": "#2a3f5f"
            },
            "marker": {
             "line": {
              "color": "white",
              "width": 0.5
             },
             "pattern": {
              "fillmode": "overlay",
              "size": 10,
              "solidity": 0.2
             }
            },
            "type": "bar"
           }
          ],
          "barpolar": [
           {
            "marker": {
             "line": {
              "color": "white",
              "width": 0.5
             },
             "pattern": {
              "fillmode": "overlay",
              "size": 10,
              "solidity": 0.2
             }
            },
            "type": "barpolar"
           }
          ],
          "carpet": [
           {
            "aaxis": {
             "endlinecolor": "#2a3f5f",
             "gridcolor": "#C8D4E3",
             "linecolor": "#C8D4E3",
             "minorgridcolor": "#C8D4E3",
             "startlinecolor": "#2a3f5f"
            },
            "baxis": {
             "endlinecolor": "#2a3f5f",
             "gridcolor": "#C8D4E3",
             "linecolor": "#C8D4E3",
             "minorgridcolor": "#C8D4E3",
             "startlinecolor": "#2a3f5f"
            },
            "type": "carpet"
           }
          ],
          "choropleth": [
           {
            "colorbar": {
             "outlinewidth": 0,
             "ticks": ""
            },
            "type": "choropleth"
           }
          ],
          "contour": [
           {
            "colorbar": {
             "outlinewidth": 0,
             "ticks": ""
            },
            "colorscale": [
             [
              0,
              "#0d0887"
             ],
             [
              0.1111111111111111,
              "#46039f"
             ],
             [
              0.2222222222222222,
              "#7201a8"
             ],
             [
              0.3333333333333333,
              "#9c179e"
             ],
             [
              0.4444444444444444,
              "#bd3786"
             ],
             [
              0.5555555555555556,
              "#d8576b"
             ],
             [
              0.6666666666666666,
              "#ed7953"
             ],
             [
              0.7777777777777778,
              "#fb9f3a"
             ],
             [
              0.8888888888888888,
              "#fdca26"
             ],
             [
              1,
              "#f0f921"
             ]
            ],
            "type": "contour"
           }
          ],
          "contourcarpet": [
           {
            "colorbar": {
             "outlinewidth": 0,
             "ticks": ""
            },
            "type": "contourcarpet"
           }
          ],
          "heatmap": [
           {
            "colorbar": {
             "outlinewidth": 0,
             "ticks": ""
            },
            "colorscale": [
             [
              0,
              "#0d0887"
             ],
             [
              0.1111111111111111,
              "#46039f"
             ],
             [
              0.2222222222222222,
              "#7201a8"
             ],
             [
              0.3333333333333333,
              "#9c179e"
             ],
             [
              0.4444444444444444,
              "#bd3786"
             ],
             [
              0.5555555555555556,
              "#d8576b"
             ],
             [
              0.6666666666666666,
              "#ed7953"
             ],
             [
              0.7777777777777778,
              "#fb9f3a"
             ],
             [
              0.8888888888888888,
              "#fdca26"
             ],
             [
              1,
              "#f0f921"
             ]
            ],
            "type": "heatmap"
           }
          ],
          "histogram": [
           {
            "marker": {
             "pattern": {
              "fillmode": "overlay",
              "size": 10,
              "solidity": 0.2
             }
            },
            "type": "histogram"
           }
          ],
          "histogram2d": [
           {
            "colorbar": {
             "outlinewidth": 0,
             "ticks": ""
            },
            "colorscale": [
             [
              0,
              "#0d0887"
             ],
             [
              0.1111111111111111,
              "#46039f"
             ],
             [
              0.2222222222222222,
              "#7201a8"
             ],
             [
              0.3333333333333333,
              "#9c179e"
             ],
             [
              0.4444444444444444,
              "#bd3786"
             ],
             [
              0.5555555555555556,
              "#d8576b"
             ],
             [
              0.6666666666666666,
              "#ed7953"
             ],
             [
              0.7777777777777778,
              "#fb9f3a"
             ],
             [
              0.8888888888888888,
              "#fdca26"
             ],
             [
              1,
              "#f0f921"
             ]
            ],
            "type": "histogram2d"
           }
          ],
          "histogram2dcontour": [
           {
            "colorbar": {
             "outlinewidth": 0,
             "ticks": ""
            },
            "colorscale": [
             [
              0,
              "#0d0887"
             ],
             [
              0.1111111111111111,
              "#46039f"
             ],
             [
              0.2222222222222222,
              "#7201a8"
             ],
             [
              0.3333333333333333,
              "#9c179e"
             ],
             [
              0.4444444444444444,
              "#bd3786"
             ],
             [
              0.5555555555555556,
              "#d8576b"
             ],
             [
              0.6666666666666666,
              "#ed7953"
             ],
             [
              0.7777777777777778,
              "#fb9f3a"
             ],
             [
              0.8888888888888888,
              "#fdca26"
             ],
             [
              1,
              "#f0f921"
             ]
            ],
            "type": "histogram2dcontour"
           }
          ],
          "mesh3d": [
           {
            "colorbar": {
             "outlinewidth": 0,
             "ticks": ""
            },
            "type": "mesh3d"
           }
          ],
          "parcoords": [
           {
            "line": {
             "colorbar": {
              "outlinewidth": 0,
              "ticks": ""
             }
            },
            "type": "parcoords"
           }
          ],
          "pie": [
           {
            "automargin": true,
            "type": "pie"
           }
          ],
          "scatter": [
           {
            "fillpattern": {
             "fillmode": "overlay",
             "size": 10,
             "solidity": 0.2
            },
            "type": "scatter"
           }
          ],
          "scatter3d": [
           {
            "line": {
             "colorbar": {
              "outlinewidth": 0,
              "ticks": ""
             }
            },
            "marker": {
             "colorbar": {
              "outlinewidth": 0,
              "ticks": ""
             }
            },
            "type": "scatter3d"
           }
          ],
          "scattercarpet": [
           {
            "marker": {
             "colorbar": {
              "outlinewidth": 0,
              "ticks": ""
             }
            },
            "type": "scattercarpet"
           }
          ],
          "scattergeo": [
           {
            "marker": {
             "colorbar": {
              "outlinewidth": 0,
              "ticks": ""
             }
            },
            "type": "scattergeo"
           }
          ],
          "scattergl": [
           {
            "marker": {
             "colorbar": {
              "outlinewidth": 0,
              "ticks": ""
             }
            },
            "type": "scattergl"
           }
          ],
          "scattermap": [
           {
            "marker": {
             "colorbar": {
              "outlinewidth": 0,
              "ticks": ""
             }
            },
            "type": "scattermap"
           }
          ],
          "scattermapbox": [
           {
            "marker": {
             "colorbar": {
              "outlinewidth": 0,
              "ticks": ""
             }
            },
            "type": "scattermapbox"
           }
          ],
          "scatterpolar": [
           {
            "marker": {
             "colorbar": {
              "outlinewidth": 0,
              "ticks": ""
             }
            },
            "type": "scatterpolar"
           }
          ],
          "scatterpolargl": [
           {
            "marker": {
             "colorbar": {
              "outlinewidth": 0,
              "ticks": ""
             }
            },
            "type": "scatterpolargl"
           }
          ],
          "scatterternary": [
           {
            "marker": {
             "colorbar": {
              "outlinewidth": 0,
              "ticks": ""
             }
            },
            "type": "scatterternary"
           }
          ],
          "surface": [
           {
            "colorbar": {
             "outlinewidth": 0,
             "ticks": ""
            },
            "colorscale": [
             [
              0,
              "#0d0887"
             ],
             [
              0.1111111111111111,
              "#46039f"
             ],
             [
              0.2222222222222222,
              "#7201a8"
             ],
             [
              0.3333333333333333,
              "#9c179e"
             ],
             [
              0.4444444444444444,
              "#bd3786"
             ],
             [
              0.5555555555555556,
              "#d8576b"
             ],
             [
              0.6666666666666666,
              "#ed7953"
             ],
             [
              0.7777777777777778,
              "#fb9f3a"
             ],
             [
              0.8888888888888888,
              "#fdca26"
             ],
             [
              1,
              "#f0f921"
             ]
            ],
            "type": "surface"
           }
          ],
          "table": [
           {
            "cells": {
             "fill": {
              "color": "#EBF0F8"
             },
             "line": {
              "color": "white"
             }
            },
            "header": {
             "fill": {
              "color": "#C8D4E3"
             },
             "line": {
              "color": "white"
             }
            },
            "type": "table"
           }
          ]
         },
         "layout": {
          "annotationdefaults": {
           "arrowcolor": "#2a3f5f",
           "arrowhead": 0,
           "arrowwidth": 1
          },
          "autotypenumbers": "strict",
          "coloraxis": {
           "colorbar": {
            "outlinewidth": 0,
            "ticks": ""
           }
          },
          "colorscale": {
           "diverging": [
            [
             0,
             "#8e0152"
            ],
            [
             0.1,
             "#c51b7d"
            ],
            [
             0.2,
             "#de77ae"
            ],
            [
             0.3,
             "#f1b6da"
            ],
            [
             0.4,
             "#fde0ef"
            ],
            [
             0.5,
             "#f7f7f7"
            ],
            [
             0.6,
             "#e6f5d0"
            ],
            [
             0.7,
             "#b8e186"
            ],
            [
             0.8,
             "#7fbc41"
            ],
            [
             0.9,
             "#4d9221"
            ],
            [
             1,
             "#276419"
            ]
           ],
           "sequential": [
            [
             0,
             "#0d0887"
            ],
            [
             0.1111111111111111,
             "#46039f"
            ],
            [
             0.2222222222222222,
             "#7201a8"
            ],
            [
             0.3333333333333333,
             "#9c179e"
            ],
            [
             0.4444444444444444,
             "#bd3786"
            ],
            [
             0.5555555555555556,
             "#d8576b"
            ],
            [
             0.6666666666666666,
             "#ed7953"
            ],
            [
             0.7777777777777778,
             "#fb9f3a"
            ],
            [
             0.8888888888888888,
             "#fdca26"
            ],
            [
             1,
             "#f0f921"
            ]
           ],
           "sequentialminus": [
            [
             0,
             "#0d0887"
            ],
            [
             0.1111111111111111,
             "#46039f"
            ],
            [
             0.2222222222222222,
             "#7201a8"
            ],
            [
             0.3333333333333333,
             "#9c179e"
            ],
            [
             0.4444444444444444,
             "#bd3786"
            ],
            [
             0.5555555555555556,
             "#d8576b"
            ],
            [
             0.6666666666666666,
             "#ed7953"
            ],
            [
             0.7777777777777778,
             "#fb9f3a"
            ],
            [
             0.8888888888888888,
             "#fdca26"
            ],
            [
             1,
             "#f0f921"
            ]
           ]
          },
          "colorway": [
           "#636efa",
           "#EF553B",
           "#00cc96",
           "#ab63fa",
           "#FFA15A",
           "#19d3f3",
           "#FF6692",
           "#B6E880",
           "#FF97FF",
           "#FECB52"
          ],
          "font": {
           "color": "#2a3f5f"
          },
          "geo": {
           "bgcolor": "white",
           "lakecolor": "white",
           "landcolor": "white",
           "showlakes": true,
           "showland": true,
           "subunitcolor": "#C8D4E3"
          },
          "hoverlabel": {
           "align": "left"
          },
          "hovermode": "closest",
          "mapbox": {
           "style": "light"
          },
          "paper_bgcolor": "white",
          "plot_bgcolor": "white",
          "polar": {
           "angularaxis": {
            "gridcolor": "#EBF0F8",
            "linecolor": "#EBF0F8",
            "ticks": ""
           },
           "bgcolor": "white",
           "radialaxis": {
            "gridcolor": "#EBF0F8",
            "linecolor": "#EBF0F8",
            "ticks": ""
           }
          },
          "scene": {
           "xaxis": {
            "backgroundcolor": "white",
            "gridcolor": "#DFE8F3",
            "gridwidth": 2,
            "linecolor": "#EBF0F8",
            "showbackground": true,
            "ticks": "",
            "zerolinecolor": "#EBF0F8"
           },
           "yaxis": {
            "backgroundcolor": "white",
            "gridcolor": "#DFE8F3",
            "gridwidth": 2,
            "linecolor": "#EBF0F8",
            "showbackground": true,
            "ticks": "",
            "zerolinecolor": "#EBF0F8"
           },
           "zaxis": {
            "backgroundcolor": "white",
            "gridcolor": "#DFE8F3",
            "gridwidth": 2,
            "linecolor": "#EBF0F8",
            "showbackground": true,
            "ticks": "",
            "zerolinecolor": "#EBF0F8"
           }
          },
          "shapedefaults": {
           "line": {
            "color": "#2a3f5f"
           }
          },
          "ternary": {
           "aaxis": {
            "gridcolor": "#DFE8F3",
            "linecolor": "#A2B1C6",
            "ticks": ""
           },
           "baxis": {
            "gridcolor": "#DFE8F3",
            "linecolor": "#A2B1C6",
            "ticks": ""
           },
           "bgcolor": "white",
           "caxis": {
            "gridcolor": "#DFE8F3",
            "linecolor": "#A2B1C6",
            "ticks": ""
           }
          },
          "title": {
           "x": 0.05
          },
          "xaxis": {
           "automargin": true,
           "gridcolor": "#EBF0F8",
           "linecolor": "#EBF0F8",
           "ticks": "",
           "title": {
            "standoff": 15
           },
           "zerolinecolor": "#EBF0F8",
           "zerolinewidth": 2
          },
          "yaxis": {
           "automargin": true,
           "gridcolor": "#EBF0F8",
           "linecolor": "#EBF0F8",
           "ticks": "",
           "title": {
            "standoff": 15
           },
           "zerolinecolor": "#EBF0F8",
           "zerolinewidth": 2
          }
         }
        },
        "width": 800,
        "xaxis": {
         "title": {
          "text": "Last Visited Minutes"
         }
        },
        "yaxis": {
         "title": {
          "text": "Average Spent on App (INR)"
         }
        }
       }
      },
      "image/png": "[encoded data removed]"
     },
     "metadata": {},
     "output_type": "display_data"
    }
   ],
   "source": [
    "PLOT = go. Figure()\n",
    "for i in list(df[\"Segments\"].unique()):\n",
    "\n",
    "    PLOT.add_trace(go.Scatter(x = df[df[\"Segments\"] == i]['Last Visited Minutes' ],\n",
    "                                y = df [df [\"Segments\"] == i]['Average Spent on App (INR)'],\n",
    "                                mode = 'markers', marker_size = 6, marker_line_width = 1,\n",
    "                                name = str(i)))\n",
    "PLOT. update_traces(hovertemplate='Last Visited Minutes: %{x} <br>Average Spent on App (INR): %{y}' )\n",
    "PLOT.update_layout(width = 800, height = 800, autosize = True, showlegend = True,\n",
    "                    yaxis_title = 'Average Spent on App (INR)',\n",
    "                    xaxis_title = 'Last Visited Minutes',\n",
    "                    scene = dict(xaxis=dict(title = 'Last Visited Minutes', title_font_color = 'black'),\n",
    "                                            yaxis=dict(title = 'Average Spent on App (INR)',\n",
    "                                            title_font_color = 'black')))\n",
    "                                            "
   ]
  }
 ],
 "metadata": {
  "kernelspec": {
   "display_name": "Python 3 (ipykernel)",
   "language": "python",
   "name": "python3"
  },
  "language_info": {
   "codemirror_mode": {
    "name": "ipython",
    "version": 3
   },
   "file_extension": ".py",
   "mimetype": "text/x-python",
   "name": "python",
   "nbconvert_exporter": "python",
   "pygments_lexer": "ipython3",
   "version": "3.13.3"
  }
 },
 "nbformat": 4,
 "nbformat_minor": 5
}
